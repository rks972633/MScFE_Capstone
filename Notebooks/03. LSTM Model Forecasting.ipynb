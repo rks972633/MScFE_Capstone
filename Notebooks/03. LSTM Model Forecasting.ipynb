{
 "cells": [
  {
   "cell_type": "markdown",
   "metadata": {},
   "source": [
    "# <span style=\"color:DarkOliveGreen\">LSTM Forecast of CDX.NA.IG"
   ]
  },
  {
   "cell_type": "markdown",
   "metadata": {},
   "source": [
    "__Summary:__ <span style=\"color:Blue\">Use LSTM model to fit and predict"
   ]
  },
  {
   "cell_type": "code",
   "execution_count": 2,
   "metadata": {},
   "outputs": [],
   "source": [
    "# Import required libraries\n",
    "import warnings\n",
    "warnings.filterwarnings('ignore')\n",
    "import pandas as pd\n",
    "import numpy as np\n",
    "import matplotlib.pyplot as plt\n",
    "from keras.models import Sequential\n",
    "from keras.layers import LSTM, Dense\n",
    "import os\n",
    "np.random.seed(0)"
   ]
  },
  {
   "cell_type": "code",
   "execution_count": 3,
   "metadata": {},
   "outputs": [],
   "source": [
    "# User defined names\n",
    "index = \"CDX.NA.IG\"\n",
    "filename = \"input_data.csv\"\n",
    "date_col = \"Date\""
   ]
  },
  {
   "cell_type": "code",
   "execution_count": 4,
   "metadata": {},
   "outputs": [
    {
     "name": "stdout",
     "output_type": "stream",
     "text": [
      "C:\\Users\\rsingh\\Desktop\\World Quant\\Capstone\\GitHub_main\\Notebooks\n"
     ]
    }
   ],
   "source": [
    "# Get current working directory\n",
    "mycwd = os.getcwd()\n",
    "print(mycwd)"
   ]
  },
  {
   "cell_type": "code",
   "execution_count": 5,
   "metadata": {},
   "outputs": [],
   "source": [
    "# Change to data directory\n",
    "os.chdir(\"..\")\n",
    "os.chdir(str(os.getcwd()) + \"\\\\Data\")"
   ]
  },
  {
   "cell_type": "code",
   "execution_count": 6,
   "metadata": {},
   "outputs": [
    {
     "data": {
      "text/html": [
       "<div>\n",
       "<style scoped>\n",
       "    .dataframe tbody tr th:only-of-type {\n",
       "        vertical-align: middle;\n",
       "    }\n",
       "\n",
       "    .dataframe tbody tr th {\n",
       "        vertical-align: top;\n",
       "    }\n",
       "\n",
       "    .dataframe thead th {\n",
       "        text-align: right;\n",
       "    }\n",
       "</style>\n",
       "<table border=\"1\" class=\"dataframe\">\n",
       "  <thead>\n",
       "    <tr style=\"text-align: right;\">\n",
       "      <th></th>\n",
       "      <th>IG_BO</th>\n",
       "      <th>SPX</th>\n",
       "      <th>VIX</th>\n",
       "      <th>UST_3M</th>\n",
       "      <th>UST_6M</th>\n",
       "      <th>UST_1Y</th>\n",
       "      <th>UST_2Y</th>\n",
       "      <th>UST_3Y</th>\n",
       "      <th>UST_5Y</th>\n",
       "      <th>UST_7Y</th>\n",
       "      <th>UST_10Y</th>\n",
       "      <th>UST_20Y</th>\n",
       "      <th>UST_30Y</th>\n",
       "      <th>IG_MID</th>\n",
       "    </tr>\n",
       "    <tr>\n",
       "      <th>Date</th>\n",
       "      <th></th>\n",
       "      <th></th>\n",
       "      <th></th>\n",
       "      <th></th>\n",
       "      <th></th>\n",
       "      <th></th>\n",
       "      <th></th>\n",
       "      <th></th>\n",
       "      <th></th>\n",
       "      <th></th>\n",
       "      <th></th>\n",
       "      <th></th>\n",
       "      <th></th>\n",
       "      <th></th>\n",
       "    </tr>\n",
       "  </thead>\n",
       "  <tbody>\n",
       "    <tr>\n",
       "      <th>2018-01-01</th>\n",
       "      <td>0.574</td>\n",
       "      <td>2673.61</td>\n",
       "      <td>11.04</td>\n",
       "      <td>1.39</td>\n",
       "      <td>1.53</td>\n",
       "      <td>1.76</td>\n",
       "      <td>1.89</td>\n",
       "      <td>1.98</td>\n",
       "      <td>2.20</td>\n",
       "      <td>2.33</td>\n",
       "      <td>2.40</td>\n",
       "      <td>2.58</td>\n",
       "      <td>2.74</td>\n",
       "      <td>49.020</td>\n",
       "    </tr>\n",
       "    <tr>\n",
       "      <th>2018-01-02</th>\n",
       "      <td>0.400</td>\n",
       "      <td>2695.81</td>\n",
       "      <td>9.77</td>\n",
       "      <td>1.44</td>\n",
       "      <td>1.61</td>\n",
       "      <td>1.83</td>\n",
       "      <td>1.92</td>\n",
       "      <td>2.01</td>\n",
       "      <td>2.25</td>\n",
       "      <td>2.38</td>\n",
       "      <td>2.46</td>\n",
       "      <td>2.64</td>\n",
       "      <td>2.81</td>\n",
       "      <td>48.455</td>\n",
       "    </tr>\n",
       "    <tr>\n",
       "      <th>2018-01-03</th>\n",
       "      <td>0.444</td>\n",
       "      <td>2713.06</td>\n",
       "      <td>9.15</td>\n",
       "      <td>1.41</td>\n",
       "      <td>1.59</td>\n",
       "      <td>1.81</td>\n",
       "      <td>1.94</td>\n",
       "      <td>2.02</td>\n",
       "      <td>2.25</td>\n",
       "      <td>2.37</td>\n",
       "      <td>2.44</td>\n",
       "      <td>2.62</td>\n",
       "      <td>2.78</td>\n",
       "      <td>47.095</td>\n",
       "    </tr>\n",
       "    <tr>\n",
       "      <th>2018-01-04</th>\n",
       "      <td>0.467</td>\n",
       "      <td>2723.99</td>\n",
       "      <td>9.22</td>\n",
       "      <td>1.41</td>\n",
       "      <td>1.60</td>\n",
       "      <td>1.82</td>\n",
       "      <td>1.96</td>\n",
       "      <td>2.05</td>\n",
       "      <td>2.27</td>\n",
       "      <td>2.38</td>\n",
       "      <td>2.46</td>\n",
       "      <td>2.62</td>\n",
       "      <td>2.79</td>\n",
       "      <td>45.877</td>\n",
       "    </tr>\n",
       "    <tr>\n",
       "      <th>2018-01-05</th>\n",
       "      <td>0.475</td>\n",
       "      <td>2743.15</td>\n",
       "      <td>9.22</td>\n",
       "      <td>1.39</td>\n",
       "      <td>1.58</td>\n",
       "      <td>1.80</td>\n",
       "      <td>1.96</td>\n",
       "      <td>2.06</td>\n",
       "      <td>2.29</td>\n",
       "      <td>2.40</td>\n",
       "      <td>2.47</td>\n",
       "      <td>2.64</td>\n",
       "      <td>2.81</td>\n",
       "      <td>45.518</td>\n",
       "    </tr>\n",
       "  </tbody>\n",
       "</table>\n",
       "</div>"
      ],
      "text/plain": [
       "            IG_BO      SPX    VIX  UST_3M  UST_6M  UST_1Y  UST_2Y  UST_3Y  \\\n",
       "Date                                                                        \n",
       "2018-01-01  0.574  2673.61  11.04    1.39    1.53    1.76    1.89    1.98   \n",
       "2018-01-02  0.400  2695.81   9.77    1.44    1.61    1.83    1.92    2.01   \n",
       "2018-01-03  0.444  2713.06   9.15    1.41    1.59    1.81    1.94    2.02   \n",
       "2018-01-04  0.467  2723.99   9.22    1.41    1.60    1.82    1.96    2.05   \n",
       "2018-01-05  0.475  2743.15   9.22    1.39    1.58    1.80    1.96    2.06   \n",
       "\n",
       "            UST_5Y  UST_7Y  UST_10Y  UST_20Y  UST_30Y  IG_MID  \n",
       "Date                                                           \n",
       "2018-01-01    2.20    2.33     2.40     2.58     2.74  49.020  \n",
       "2018-01-02    2.25    2.38     2.46     2.64     2.81  48.455  \n",
       "2018-01-03    2.25    2.37     2.44     2.62     2.78  47.095  \n",
       "2018-01-04    2.27    2.38     2.46     2.62     2.79  45.877  \n",
       "2018-01-05    2.29    2.40     2.47     2.64     2.81  45.518  "
      ]
     },
     "execution_count": 6,
     "metadata": {},
     "output_type": "execute_result"
    }
   ],
   "source": [
    "# Read the data\n",
    "df = pd.read_csv(filename, index_col=date_col)\n",
    "#df.index = pd.to_datetime(df.index)\n",
    "df.head()"
   ]
  },
  {
   "cell_type": "code",
   "execution_count": 33,
   "metadata": {},
   "outputs": [],
   "source": [
    "df = df[:500]"
   ]
  },
  {
   "cell_type": "markdown",
   "metadata": {},
   "source": [
    "       "
   ]
  },
  {
   "cell_type": "markdown",
   "metadata": {},
   "source": [
    "      "
   ]
  },
  {
   "cell_type": "markdown",
   "metadata": {},
   "source": [
    "## <span style=\"color:DarkOliveGreen\">Functions"
   ]
  },
  {
   "cell_type": "code",
   "execution_count": 7,
   "metadata": {},
   "outputs": [],
   "source": [
    "from datetime import datetime\n",
    "\n",
    "def days_between(d1, d2):\n",
    "    d1 = datetime.strptime(d1, \"%Y-%m-%d\")\n",
    "    d2 = datetime.strptime(d2, \"%Y-%m-%d\")\n",
    "    return abs((d2 - d1).days)"
   ]
  },
  {
   "cell_type": "code",
   "execution_count": 8,
   "metadata": {},
   "outputs": [],
   "source": [
    "def create_dataset(n_X, look_back):\n",
    "    dataX, dataY = [], []\n",
    "    for i in range(len(n_X)-look_back):\n",
    "        a = n_X[i:(i+look_back), ]\n",
    "        dataX.append(a)\n",
    "        dataY.append(n_X[i + look_back, ])\n",
    "        \n",
    "    return np.array(dataX), np.array(dataY)"
   ]
  },
  {
   "cell_type": "code",
   "execution_count": 9,
   "metadata": {},
   "outputs": [],
   "source": [
    "x=list((df.index))\n",
    "y=list((df['IG_MID'].values))\n",
    "\n",
    "x_n = [days_between(i, x[-1]) for i in x]\n",
    "x_n = [1+x.index(i) for i in x]\n",
    "\n",
    "trainx, testx = x_n[0:int(0.8*(len(x)))], x_n[int(0.8*(len(x))):]\n",
    "trainy, testy = y[0:int(0.8*(len(y)))], y[int(0.8*(len(y))):]\n",
    "train = np.array(list(zip(trainx,trainy)))\n",
    "test = np.array(list(zip(trainx,trainy)))\n",
    "\n",
    "\n",
    "look_back = 10\n",
    "trainx_lstm,trainy_lstm = create_dataset(train, look_back)\n",
    "testx_lstm,testy_lstm = create_dataset(test, look_back)\n",
    "\n",
    "trainx_lstm = np.reshape(trainx_lstm, (trainx_lstm.shape[0], look_back, 2))\n",
    "testx_lstm = np.reshape(testx_lstm, (testx_lstm.shape[0], look_back, 2))"
   ]
  },
  {
   "cell_type": "code",
   "execution_count": 10,
   "metadata": {},
   "outputs": [
    {
     "name": "stdout",
     "output_type": "stream",
     "text": [
      "Model: \"sequential\"\n",
      "_________________________________________________________________\n",
      " Layer (type)                Output Shape              Param #   \n",
      "=================================================================\n",
      " lstm (LSTM)                 (None, 10, 512)           1054720   \n",
      "                                                                 \n",
      " lstm_1 (LSTM)               (None, 256)               787456    \n",
      "                                                                 \n",
      " dense (Dense)               (None, 2)                 514       \n",
      "                                                                 \n",
      "=================================================================\n",
      "Total params: 1,842,690\n",
      "Trainable params: 1,842,690\n",
      "Non-trainable params: 0\n",
      "_________________________________________________________________\n"
     ]
    }
   ],
   "source": [
    "model = Sequential()\n",
    "model.add(LSTM(512, return_sequences = True, input_shape = (trainx_lstm.shape[1], 2)))\n",
    "model.add(LSTM(256,input_shape = (trainx_lstm.shape[1], 2)))\n",
    "model.add(Dense(2))\n",
    "model.compile(loss = 'mean_squared_error', optimizer = 'adam')\n",
    "model.summary()"
   ]
  },
  {
   "cell_type": "code",
   "execution_count": 11,
   "metadata": {},
   "outputs": [],
   "source": [
    "model.fit(trainx_lstm, trainy_lstm, epochs = 2000, batch_size = 10, verbose = 0, shuffle = False)\n",
    "model.save_weights('LSTMBasic_IG.h5')"
   ]
  },
  {
   "cell_type": "code",
   "execution_count": 12,
   "metadata": {},
   "outputs": [
    {
     "data": {
      "text/plain": [
       "(1481, 10, 2)"
      ]
     },
     "execution_count": 12,
     "metadata": {},
     "output_type": "execute_result"
    }
   ],
   "source": [
    "trainx_lstm.shape"
   ]
  },
  {
   "cell_type": "markdown",
   "metadata": {},
   "source": [
    "## <span style=\"color:DarkOliveGreen\">LSTM time Plots"
   ]
  },
  {
   "cell_type": "code",
   "execution_count": 13,
   "metadata": {},
   "outputs": [
    {
     "name": "stdout",
     "output_type": "stream",
     "text": [
      "47/47 [==============================] - 3s 51ms/step\n"
     ]
    }
   ],
   "source": [
    "model.load_weights('LSTMBasic_IG.h5')\n",
    "predict = model.predict(testx_lstm)"
   ]
  },
  {
   "cell_type": "code",
   "execution_count": 14,
   "metadata": {},
   "outputs": [],
   "source": [
    "# Change to Images directory\n",
    "os.chdir(\"..\")\n",
    "os.chdir(str(os.getcwd()) + \"\\\\Images\")"
   ]
  },
  {
   "cell_type": "code",
   "execution_count": 15,
   "metadata": {},
   "outputs": [
    {
     "data": {
      "image/png": "[encoded data removed]",
      "text/plain": [
       "<Figure size 640x480 with 1 Axes>"
      ]
     },
     "metadata": {},
     "output_type": "display_data"
    }
   ],
   "source": [
    "plt.plot(trainx, trainy,'-')\n",
    "plt.plot(predict[:,0:1], predict[:,1:2],'-')\n",
    "plt.tight_layout()\n",
    "plt.savefig('Fitted_LSTM_LB_ '+ str(look_back) +'.png')\n",
    "plt.show()\n",
    "plt.close()"
   ]
  },
  {
   "cell_type": "code",
   "execution_count": 76,
   "metadata": {},
   "outputs": [
    {
     "data": {
      "text/plain": [
       "(395, 5, 2)"
      ]
     },
     "execution_count": 76,
     "metadata": {},
     "output_type": "execute_result"
    }
   ],
   "source": [
    "testx.shape"
   ]
  },
  {
   "cell_type": "code",
   "execution_count": 77,
   "metadata": {},
   "outputs": [
    {
     "data": {
      "text/plain": [
       "array([[ 1.   , 49.02 ],\n",
       "       [ 2.   , 48.455],\n",
       "       [ 3.   , 47.095],\n",
       "       [ 4.   , 45.877],\n",
       "       [ 5.   , 45.518]])"
      ]
     },
     "execution_count": 77,
     "metadata": {},
     "output_type": "execute_result"
    }
   ],
   "source": [
    "testx[0]"
   ]
  },
  {
   "cell_type": "markdown",
   "metadata": {},
   "source": [
    "           "
   ]
  },
  {
   "cell_type": "markdown",
   "metadata": {},
   "source": [
    "           "
   ]
  },
  {
   "cell_type": "markdown",
   "metadata": {},
   "source": [
    "## <span style=\"color:DarkOliveGreen\">Save the Data"
   ]
  },
  {
   "cell_type": "code",
   "execution_count": 44,
   "metadata": {},
   "outputs": [],
   "source": [
    "os.chdir(\"..\")\n",
    "os.chdir(str(os.getcwd()) + \"\\\\Data\")\n",
    "#df.to_csv(index +\"_data\"+\".csv\", index=True)"
   ]
  },
  {
   "cell_type": "markdown",
   "metadata": {},
   "source": [
    "      "
   ]
  },
  {
   "cell_type": "markdown",
   "metadata": {},
   "source": [
    "      "
   ]
  }
 ],
 "metadata": {
  "kernelspec": {
   "display_name": "Python 3 (ipykernel)",
   "language": "python",
   "name": "python3"
  },
  "language_info": {
   "codemirror_mode": {
    "name": "ipython",
    "version": 3
   },
   "file_extension": ".py",
   "mimetype": "text/x-python",
   "name": "python",
   "nbconvert_exporter": "python",
   "pygments_lexer": "ipython3",
   "version": "3.9.13"
  }
 },
 "nbformat": 4,
 "nbformat_minor": 4
}
