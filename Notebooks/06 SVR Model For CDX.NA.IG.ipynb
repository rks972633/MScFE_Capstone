{
 "cells": [
  {
   "cell_type": "markdown",
   "metadata": {},
   "source": [
    "# <span style=\"color:DarkOliveGreen\">Support Vector Regression Forecast of CDX.NA.IG"
   ]
  },
  {
   "cell_type": "markdown",
   "metadata": {},
   "source": [
    "__Summary:__ <span style=\"color:Blue\">Use SVR model to fit and predict"
   ]
  },
  {
   "cell_type": "code",
   "execution_count": 1,
   "metadata": {},
   "outputs": [],
   "source": [
    "# Import required libraries\n",
    "import warnings\n",
    "warnings.filterwarnings('ignore')\n",
    "import pandas as pd\n",
    "import numpy as np\n",
    "import matplotlib.pyplot as plt\n",
    "\n",
    "from keras.models import Sequential\n",
    "from keras.layers import LSTM, Dense\n",
    "\n",
    "from sklearn.svm import SVC\n",
    "from sklearn.preprocessing import MinMaxScaler\n",
    "from sklearn.metrics import mean_squared_error\n",
    "from sklearn.metrics import accuracy_score\n",
    "\n",
    "\n",
    "# importing libraries\n",
    "from xbbg import blp, pipeline\n",
    "import yfinance as yf\n",
    "import plotly.graph_objects as go\n",
    "from sklearn.model_selection import train_test_split, GridSearchCV\n",
    "from sklearn.svm import SVR\n",
    "from datetime import date, timedelta\n",
    "\n",
    "import matplotlib.dates as mdates\n",
    "import datetime\n",
    "from datetime import datetime\n",
    "from pandas.tseries.offsets import BDay\n",
    "\n",
    "import os\n",
    "np.random.seed(0)"
   ]
  },
  {
   "cell_type": "code",
   "execution_count": 2,
   "metadata": {},
   "outputs": [],
   "source": [
    "# User defined names\n",
    "index = \"CDX.NA.IG\"\n",
    "filename = \"input_data.csv\"\n",
    "date_col = \"Date\""
   ]
  },
  {
   "cell_type": "code",
   "execution_count": 3,
   "metadata": {},
   "outputs": [
    {
     "name": "stdout",
     "output_type": "stream",
     "text": [
      "C:\\Users\\rsingh\\Desktop\\WorldQuant\\Capstone\\Draft Submission\\MScFE_Capstone-main\\Notebooks\n"
     ]
    }
   ],
   "source": [
    "# Get current working directory\n",
    "mycwd = os.getcwd()\n",
    "print(mycwd)"
   ]
  },
  {
   "cell_type": "code",
   "execution_count": 4,
   "metadata": {},
   "outputs": [],
   "source": [
    "# Change to data directory\n",
    "os.chdir(\"..\")\n",
    "os.chdir(str(os.getcwd()) + \"\\\\Data\")"
   ]
  },
  {
   "cell_type": "markdown",
   "metadata": {},
   "source": [
    "#### <span style=\"color:DarkOliveGreen\">Read input data as df:"
   ]
  },
  {
   "cell_type": "code",
   "execution_count": 5,
   "metadata": {},
   "outputs": [
    {
     "data": {
      "text/html": [
       "<div>\n",
       "<style scoped>\n",
       "    .dataframe tbody tr th:only-of-type {\n",
       "        vertical-align: middle;\n",
       "    }\n",
       "\n",
       "    .dataframe tbody tr th {\n",
       "        vertical-align: top;\n",
       "    }\n",
       "\n",
       "    .dataframe thead th {\n",
       "        text-align: right;\n",
       "    }\n",
       "</style>\n",
       "<table border=\"1\" class=\"dataframe\">\n",
       "  <thead>\n",
       "    <tr style=\"text-align: right;\">\n",
       "      <th></th>\n",
       "      <th>IG_BO</th>\n",
       "      <th>SPX</th>\n",
       "      <th>VIX</th>\n",
       "      <th>UST_3M</th>\n",
       "      <th>UST_6M</th>\n",
       "      <th>UST_1Y</th>\n",
       "      <th>UST_2Y</th>\n",
       "      <th>UST_3Y</th>\n",
       "      <th>UST_5Y</th>\n",
       "      <th>UST_7Y</th>\n",
       "      <th>UST_10Y</th>\n",
       "      <th>UST_20Y</th>\n",
       "      <th>UST_30Y</th>\n",
       "      <th>IG_MID</th>\n",
       "    </tr>\n",
       "    <tr>\n",
       "      <th>Date</th>\n",
       "      <th></th>\n",
       "      <th></th>\n",
       "      <th></th>\n",
       "      <th></th>\n",
       "      <th></th>\n",
       "      <th></th>\n",
       "      <th></th>\n",
       "      <th></th>\n",
       "      <th></th>\n",
       "      <th></th>\n",
       "      <th></th>\n",
       "      <th></th>\n",
       "      <th></th>\n",
       "      <th></th>\n",
       "    </tr>\n",
       "  </thead>\n",
       "  <tbody>\n",
       "    <tr>\n",
       "      <th>2012-01-01</th>\n",
       "      <td>1.500</td>\n",
       "      <td>1257.61</td>\n",
       "      <td>23.40</td>\n",
       "      <td>0.02</td>\n",
       "      <td>0.06</td>\n",
       "      <td>0.12</td>\n",
       "      <td>0.25</td>\n",
       "      <td>0.36</td>\n",
       "      <td>0.83</td>\n",
       "      <td>1.35</td>\n",
       "      <td>1.89</td>\n",
       "      <td>2.57</td>\n",
       "      <td>2.89</td>\n",
       "      <td>120.000</td>\n",
       "    </tr>\n",
       "    <tr>\n",
       "      <th>2012-01-02</th>\n",
       "      <td>1.500</td>\n",
       "      <td>1257.61</td>\n",
       "      <td>23.40</td>\n",
       "      <td>0.02</td>\n",
       "      <td>0.06</td>\n",
       "      <td>0.12</td>\n",
       "      <td>0.25</td>\n",
       "      <td>0.36</td>\n",
       "      <td>0.83</td>\n",
       "      <td>1.35</td>\n",
       "      <td>1.89</td>\n",
       "      <td>2.57</td>\n",
       "      <td>2.89</td>\n",
       "      <td>120.000</td>\n",
       "    </tr>\n",
       "    <tr>\n",
       "      <th>2012-01-03</th>\n",
       "      <td>1.000</td>\n",
       "      <td>1277.06</td>\n",
       "      <td>22.97</td>\n",
       "      <td>0.02</td>\n",
       "      <td>0.06</td>\n",
       "      <td>0.12</td>\n",
       "      <td>0.27</td>\n",
       "      <td>0.40</td>\n",
       "      <td>0.89</td>\n",
       "      <td>1.41</td>\n",
       "      <td>1.97</td>\n",
       "      <td>2.67</td>\n",
       "      <td>2.98</td>\n",
       "      <td>118.000</td>\n",
       "    </tr>\n",
       "    <tr>\n",
       "      <th>2012-01-04</th>\n",
       "      <td>1.000</td>\n",
       "      <td>1277.30</td>\n",
       "      <td>22.22</td>\n",
       "      <td>0.02</td>\n",
       "      <td>0.06</td>\n",
       "      <td>0.12</td>\n",
       "      <td>0.25</td>\n",
       "      <td>0.40</td>\n",
       "      <td>0.89</td>\n",
       "      <td>1.43</td>\n",
       "      <td>2.00</td>\n",
       "      <td>2.71</td>\n",
       "      <td>3.03</td>\n",
       "      <td>118.750</td>\n",
       "    </tr>\n",
       "    <tr>\n",
       "      <th>2012-01-05</th>\n",
       "      <td>0.917</td>\n",
       "      <td>1281.06</td>\n",
       "      <td>21.48</td>\n",
       "      <td>0.02</td>\n",
       "      <td>0.07</td>\n",
       "      <td>0.11</td>\n",
       "      <td>0.27</td>\n",
       "      <td>0.40</td>\n",
       "      <td>0.88</td>\n",
       "      <td>1.43</td>\n",
       "      <td>2.02</td>\n",
       "      <td>2.74</td>\n",
       "      <td>3.06</td>\n",
       "      <td>120.001</td>\n",
       "    </tr>\n",
       "  </tbody>\n",
       "</table>\n",
       "</div>"
      ],
      "text/plain": [
       "            IG_BO      SPX    VIX  UST_3M  UST_6M  UST_1Y  UST_2Y  UST_3Y  \\\n",
       "Date                                                                        \n",
       "2012-01-01  1.500  1257.61  23.40    0.02    0.06    0.12    0.25    0.36   \n",
       "2012-01-02  1.500  1257.61  23.40    0.02    0.06    0.12    0.25    0.36   \n",
       "2012-01-03  1.000  1277.06  22.97    0.02    0.06    0.12    0.27    0.40   \n",
       "2012-01-04  1.000  1277.30  22.22    0.02    0.06    0.12    0.25    0.40   \n",
       "2012-01-05  0.917  1281.06  21.48    0.02    0.07    0.11    0.27    0.40   \n",
       "\n",
       "            UST_5Y  UST_7Y  UST_10Y  UST_20Y  UST_30Y   IG_MID  \n",
       "Date                                                            \n",
       "2012-01-01    0.83    1.35     1.89     2.57     2.89  120.000  \n",
       "2012-01-02    0.83    1.35     1.89     2.57     2.89  120.000  \n",
       "2012-01-03    0.89    1.41     1.97     2.67     2.98  118.000  \n",
       "2012-01-04    0.89    1.43     2.00     2.71     3.03  118.750  \n",
       "2012-01-05    0.88    1.43     2.02     2.74     3.06  120.001  "
      ]
     },
     "execution_count": 5,
     "metadata": {},
     "output_type": "execute_result"
    }
   ],
   "source": [
    "# Read the data\n",
    "df = pd.read_csv(filename, index_col=date_col)\n",
    "#df.index = pd.to_datetime(df.index)\n",
    "df.head()"
   ]
  },
  {
   "cell_type": "code",
   "execution_count": 6,
   "metadata": {},
   "outputs": [
    {
     "name": "stdout",
     "output_type": "stream",
     "text": [
      "shape: (4018, 14)\n",
      "first date: 2012-01-01\n",
      "last date: 2022-12-31\n"
     ]
    }
   ],
   "source": [
    "print(\"shape:\",df.shape)\n",
    "print(\"first date:\",df.index[0])\n",
    "print(\"last date:\",df.index[-1])"
   ]
  },
  {
   "cell_type": "markdown",
   "metadata": {},
   "source": [
    "       "
   ]
  },
  {
   "cell_type": "markdown",
   "metadata": {},
   "source": [
    "#### <span style=\"color:DarkOliveGreen\">Plotting our data and rolling mean:"
   ]
  },
  {
   "cell_type": "markdown",
   "metadata": {},
   "source": [
    "      "
   ]
  },
  {
   "cell_type": "code",
   "execution_count": 7,
   "metadata": {},
   "outputs": [
    {
     "data": {
      "text/plain": [
       "<matplotlib.legend.Legend at 0x2acb4240388>"
      ]
     },
     "execution_count": 7,
     "metadata": {},
     "output_type": "execute_result"
    },
    {
     "data": {
      "image/png": "[encoded data removed]",
      "text/plain": [
       "<Figure size 864x432 with 1 Axes>"
      ]
     },
     "metadata": {
      "needs_background": "light"
     },
     "output_type": "display_data"
    }
   ],
   "source": [
    "# Visualize the training stock data:\n",
    "%matplotlib inline\n",
    "\n",
    "# Rolling mean\n",
    "close_px = df['IG_MID']\n",
    "mavg = close_px.rolling(window=100).mean()\n",
    "\n",
    "plt.figure(figsize = (12,6))\n",
    "close_px.plot(label='CDX.NA.IG')\n",
    "mavg.plot(label='mavg',color='olive')\n",
    "plt.xlabel('Date')\n",
    "plt.ylabel('CDX.NA.IG')\n",
    "plt.legend()"
   ]
  },
  {
   "cell_type": "markdown",
   "metadata": {},
   "source": [
    "#### <span style=\"color:DarkOliveGreen\">User-defined Functions"
   ]
  },
  {
   "cell_type": "code",
   "execution_count": 8,
   "metadata": {},
   "outputs": [],
   "source": [
    "'''Function to evaluate a SVR model with chosen parameters to help with hyper-parameter optimization'''\n",
    "'''The output is a chosen performance metric i.e. rmse and a plot for model loss vs epochs'''\n",
    "def run_svr(X_train, y_train, C, epsilon, gamma, show_plots):\n",
    "    # Build the model \n",
    "    svr_model = SVR(kernel= 'rbf', C=C, epsilon=epsilon, gamma= gamma)\n",
    "    svr_model.fit(X_train, y_train)\n",
    "        \n",
    "    # Fit the prices with the model\n",
    "    fitted_y = svr_model.predict(X_train)\n",
    "    \n",
    "    # calculate RMSE\n",
    "    rmse = np.sqrt(mean_squared_error(y_train, fitted_y))\n",
    "    print('Fit RMSE: %.3f' % rmse)\n",
    "    \n",
    "    # plot the results\n",
    "     \n",
    "    if show_plots:\n",
    "        plt.figure(figsize = (10,6))\n",
    "        plt.plot(y_train, color = 'blue', label = 'CDX.NA.IG')\n",
    "        plt.plot(fitted_y, color = 'olive', label = 'Fitted CDX.NA.IG')\n",
    "\n",
    "        plt.xlabel('Time')\n",
    "        plt.ylabel('CDX.NA.IG')\n",
    "        plt.legend()\n",
    "        plt.show()\n",
    "        \n",
    "    return rmse"
   ]
  },
  {
   "cell_type": "markdown",
   "metadata": {},
   "source": [
    " #### <span style=\"color:DarkOliveGreen\"> Preparing Data for feeding to SVR model."
   ]
  },
  {
   "cell_type": "code",
   "execution_count": 9,
   "metadata": {},
   "outputs": [
    {
     "data": {
      "text/html": [
       "<div>\n",
       "<style scoped>\n",
       "    .dataframe tbody tr th:only-of-type {\n",
       "        vertical-align: middle;\n",
       "    }\n",
       "\n",
       "    .dataframe tbody tr th {\n",
       "        vertical-align: top;\n",
       "    }\n",
       "\n",
       "    .dataframe thead th {\n",
       "        text-align: right;\n",
       "    }\n",
       "</style>\n",
       "<table border=\"1\" class=\"dataframe\">\n",
       "  <thead>\n",
       "    <tr style=\"text-align: right;\">\n",
       "      <th></th>\n",
       "      <th>Date</th>\n",
       "      <th>IG_BO</th>\n",
       "      <th>SPX</th>\n",
       "      <th>VIX</th>\n",
       "      <th>UST_3M</th>\n",
       "      <th>UST_6M</th>\n",
       "      <th>UST_1Y</th>\n",
       "      <th>UST_2Y</th>\n",
       "      <th>UST_3Y</th>\n",
       "      <th>UST_5Y</th>\n",
       "      <th>UST_7Y</th>\n",
       "      <th>UST_10Y</th>\n",
       "      <th>UST_20Y</th>\n",
       "      <th>UST_30Y</th>\n",
       "      <th>IG_MID</th>\n",
       "      <th>DateNum</th>\n",
       "    </tr>\n",
       "  </thead>\n",
       "  <tbody>\n",
       "    <tr>\n",
       "      <th>4013</th>\n",
       "      <td>2022-12-27</td>\n",
       "      <td>0.617</td>\n",
       "      <td>3829.25</td>\n",
       "      <td>21.65</td>\n",
       "      <td>4.46</td>\n",
       "      <td>4.76</td>\n",
       "      <td>4.75</td>\n",
       "      <td>4.32</td>\n",
       "      <td>4.17</td>\n",
       "      <td>3.94</td>\n",
       "      <td>3.93</td>\n",
       "      <td>3.84</td>\n",
       "      <td>4.10</td>\n",
       "      <td>3.93</td>\n",
       "      <td>80.753</td>\n",
       "      <td>19353.0</td>\n",
       "    </tr>\n",
       "    <tr>\n",
       "      <th>4014</th>\n",
       "      <td>2022-12-28</td>\n",
       "      <td>0.907</td>\n",
       "      <td>3783.22</td>\n",
       "      <td>22.14</td>\n",
       "      <td>4.46</td>\n",
       "      <td>4.75</td>\n",
       "      <td>4.71</td>\n",
       "      <td>4.31</td>\n",
       "      <td>4.18</td>\n",
       "      <td>3.97</td>\n",
       "      <td>3.97</td>\n",
       "      <td>3.88</td>\n",
       "      <td>4.13</td>\n",
       "      <td>3.98</td>\n",
       "      <td>84.111</td>\n",
       "      <td>19354.0</td>\n",
       "    </tr>\n",
       "    <tr>\n",
       "      <th>4015</th>\n",
       "      <td>2022-12-29</td>\n",
       "      <td>0.632</td>\n",
       "      <td>3849.28</td>\n",
       "      <td>21.44</td>\n",
       "      <td>4.45</td>\n",
       "      <td>4.73</td>\n",
       "      <td>4.71</td>\n",
       "      <td>4.34</td>\n",
       "      <td>4.16</td>\n",
       "      <td>3.94</td>\n",
       "      <td>3.91</td>\n",
       "      <td>3.83</td>\n",
       "      <td>4.09</td>\n",
       "      <td>3.92</td>\n",
       "      <td>81.710</td>\n",
       "      <td>19355.0</td>\n",
       "    </tr>\n",
       "    <tr>\n",
       "      <th>4016</th>\n",
       "      <td>2022-12-30</td>\n",
       "      <td>1.302</td>\n",
       "      <td>3839.50</td>\n",
       "      <td>21.67</td>\n",
       "      <td>4.42</td>\n",
       "      <td>4.76</td>\n",
       "      <td>4.73</td>\n",
       "      <td>4.41</td>\n",
       "      <td>4.22</td>\n",
       "      <td>3.99</td>\n",
       "      <td>3.96</td>\n",
       "      <td>3.88</td>\n",
       "      <td>4.14</td>\n",
       "      <td>3.97</td>\n",
       "      <td>82.024</td>\n",
       "      <td>19356.0</td>\n",
       "    </tr>\n",
       "    <tr>\n",
       "      <th>4017</th>\n",
       "      <td>2022-12-31</td>\n",
       "      <td>1.302</td>\n",
       "      <td>3839.50</td>\n",
       "      <td>21.67</td>\n",
       "      <td>4.42</td>\n",
       "      <td>4.76</td>\n",
       "      <td>4.73</td>\n",
       "      <td>4.41</td>\n",
       "      <td>4.22</td>\n",
       "      <td>3.99</td>\n",
       "      <td>3.96</td>\n",
       "      <td>3.88</td>\n",
       "      <td>4.14</td>\n",
       "      <td>3.97</td>\n",
       "      <td>82.024</td>\n",
       "      <td>19357.0</td>\n",
       "    </tr>\n",
       "  </tbody>\n",
       "</table>\n",
       "</div>"
      ],
      "text/plain": [
       "            Date  IG_BO      SPX    VIX  UST_3M  UST_6M  UST_1Y  UST_2Y  \\\n",
       "4013  2022-12-27  0.617  3829.25  21.65    4.46    4.76    4.75    4.32   \n",
       "4014  2022-12-28  0.907  3783.22  22.14    4.46    4.75    4.71    4.31   \n",
       "4015  2022-12-29  0.632  3849.28  21.44    4.45    4.73    4.71    4.34   \n",
       "4016  2022-12-30  1.302  3839.50  21.67    4.42    4.76    4.73    4.41   \n",
       "4017  2022-12-31  1.302  3839.50  21.67    4.42    4.76    4.73    4.41   \n",
       "\n",
       "      UST_3Y  UST_5Y  UST_7Y  UST_10Y  UST_20Y  UST_30Y  IG_MID  DateNum  \n",
       "4013    4.17    3.94    3.93     3.84     4.10     3.93  80.753  19353.0  \n",
       "4014    4.18    3.97    3.97     3.88     4.13     3.98  84.111  19354.0  \n",
       "4015    4.16    3.94    3.91     3.83     4.09     3.92  81.710  19355.0  \n",
       "4016    4.22    3.99    3.96     3.88     4.14     3.97  82.024  19356.0  \n",
       "4017    4.22    3.99    3.96     3.88     4.14     3.97  82.024  19357.0  "
      ]
     },
     "execution_count": 9,
     "metadata": {},
     "output_type": "execute_result"
    }
   ],
   "source": [
    "import matplotlib.dates as mdates\n",
    "\n",
    "# change the dates into ints for training \n",
    "dates_df = df.copy()\n",
    "dates_df = dates_df.reset_index()\n",
    "\n",
    "# Store the original dates for plotting the predicitons\n",
    "org_dates = dates_df['Date']\n",
    "\n",
    "# convert to ints\n",
    "dates_df['DateNum'] = [mdates.datestr2num(dt) for dt in dates_df['Date']]\n",
    "\n",
    "dates_df.tail()"
   ]
  },
  {
   "cell_type": "markdown",
   "metadata": {},
   "source": [
    " #### <span style=\"color:DarkOliveGreen\"> Splitting data as training and testing set:"
   ]
  },
  {
   "cell_type": "code",
   "execution_count": 10,
   "metadata": {},
   "outputs": [],
   "source": [
    "train_df, test_df = train_test_split(dates_df, test_size=0.1, shuffle=False)\n",
    "\n",
    "X_train = np.array(train_df['DateNum'])\n",
    "y_train =  np.array(train_df['IG_MID'])\n",
    "\n",
    "X_test = np.array(test_df['DateNum'])\n",
    "y_test =  np.array(test_df['IG_MID'])\n",
    "\n",
    "\n",
    "#Convert to 1d Vector\n",
    "X_train = np.reshape(X_train, (len(X_train), 1))\n",
    "y_train = np.reshape(y_train, (len(y_train), 1))\n",
    "\n",
    "X_test = np.reshape(X_test, (len(X_test), 1))\n",
    "y_test = np.reshape(y_test, (len(y_test), 1))"
   ]
  },
  {
   "cell_type": "markdown",
   "metadata": {},
   "source": [
    " #### <span style=\"color:DarkOliveGreen\"> Building the SVR model:"
   ]
  },
  {
   "cell_type": "code",
   "execution_count": 11,
   "metadata": {},
   "outputs": [
    {
     "data": {
      "text/plain": [
       "SVR(C=1000.0, epsilon=0.01, gamma=0.1)"
      ]
     },
     "execution_count": 11,
     "metadata": {},
     "output_type": "execute_result"
    }
   ],
   "source": [
    "# Use sklearn support vector regression to predicit our data:\n",
    "from sklearn.svm import SVR\n",
    "\n",
    "svr_model = SVR(kernel= 'rbf', C= 1e3, epsilon=0.01, gamma= 0.1)\n",
    "svr_model.fit(X_train, y_train)"
   ]
  },
  {
   "cell_type": "code",
   "execution_count": 12,
   "metadata": {},
   "outputs": [
    {
     "name": "stdout",
     "output_type": "stream",
     "text": [
      "Training Fit RMSE: 0.901\n",
      "Test Fit RMSE: 16.973\n"
     ]
    }
   ],
   "source": [
    "# calculate RMSE\n",
    "rmse = np.sqrt(mean_squared_error(y_train, svr_model.predict(X_train)))\n",
    "print('Training Fit RMSE: %.3f' % rmse)\n",
    "\n",
    "rmse = np.sqrt(mean_squared_error(y_test, svr_model.predict(X_test)))\n",
    "print('Test Fit RMSE: %.3f' % rmse)"
   ]
  },
  {
   "cell_type": "code",
   "execution_count": 13,
   "metadata": {},
   "outputs": [
    {
     "data": {
      "image/png": "[encoded data removed]",
      "text/plain": [
       "<Figure size 864x432 with 1 Axes>"
      ]
     },
     "metadata": {
      "needs_background": "light"
     },
     "output_type": "display_data"
    }
   ],
   "source": [
    "dates = [datetime.strptime(dt, '%Y-%m-%d').date() for dt in dates_df['Date']]\n",
    "train_dates = [datetime.strptime(dt, '%Y-%m-%d').date() for dt in train_df['Date']]\n",
    "test_dates = [datetime.strptime(dt, '%Y-%m-%d').date() for dt in test_df['Date']]\n",
    "\n",
    "plt.figure(figsize = (12,6))\n",
    "plt.plot(dates,dates_df['IG_MID'], color= 'blue', label= 'Actual Spreads')\n",
    "\n",
    "plt.plot(train_dates, svr_model.predict(X_train), color= 'red', label= 'SVR train fit')\n",
    "plt.plot(test_dates, svr_model.predict(X_test), color= 'olive', label= 'SVR test fit')\n",
    "\n",
    "plt.xlabel('Date')\n",
    "plt.ylabel('CDX.NA.IG')\n",
    "plt.legend()\n",
    "plt.show()"
   ]
  },
  {
   "cell_type": "markdown",
   "metadata": {},
   "source": [
    " "
   ]
  },
  {
   "cell_type": "markdown",
   "metadata": {},
   "source": [
    "### <span style=\"color:DarkOliveGreen\">Save the Data"
   ]
  },
  {
   "cell_type": "code",
   "execution_count": 15,
   "metadata": {},
   "outputs": [],
   "source": [
    "os.chdir(\"..\")\n",
    "os.chdir(str(os.getcwd()) + \"\\\\Data\")"
   ]
  },
  {
   "cell_type": "code",
   "execution_count": 30,
   "metadata": {},
   "outputs": [],
   "source": [
    "train_res = pd.DataFrame(index=train_dates)\n",
    "train_res['IG_MID'] = train_df['IG_MID'].values\n",
    "train_res['svm_fit'] = svr_model.predict(X_train)\n",
    "train_res.to_csv(\"svm_train_res\"+\".csv\", index=True)"
   ]
  },
  {
   "cell_type": "code",
   "execution_count": 31,
   "metadata": {},
   "outputs": [
    {
     "data": {
      "text/html": [
       "<div>\n",
       "<style scoped>\n",
       "    .dataframe tbody tr th:only-of-type {\n",
       "        vertical-align: middle;\n",
       "    }\n",
       "\n",
       "    .dataframe tbody tr th {\n",
       "        vertical-align: top;\n",
       "    }\n",
       "\n",
       "    .dataframe thead th {\n",
       "        text-align: right;\n",
       "    }\n",
       "</style>\n",
       "<table border=\"1\" class=\"dataframe\">\n",
       "  <thead>\n",
       "    <tr style=\"text-align: right;\">\n",
       "      <th></th>\n",
       "      <th>IG_MID</th>\n",
       "      <th>svm_fit</th>\n",
       "    </tr>\n",
       "  </thead>\n",
       "  <tbody>\n",
       "    <tr>\n",
       "      <th>2012-01-01</th>\n",
       "      <td>120.000</td>\n",
       "      <td>120.009851</td>\n",
       "    </tr>\n",
       "    <tr>\n",
       "      <th>2012-01-02</th>\n",
       "      <td>120.000</td>\n",
       "      <td>119.989742</td>\n",
       "    </tr>\n",
       "    <tr>\n",
       "      <th>2012-01-03</th>\n",
       "      <td>118.000</td>\n",
       "      <td>118.137969</td>\n",
       "    </tr>\n",
       "    <tr>\n",
       "      <th>2012-01-04</th>\n",
       "      <td>118.750</td>\n",
       "      <td>118.740485</td>\n",
       "    </tr>\n",
       "    <tr>\n",
       "      <th>2012-01-05</th>\n",
       "      <td>120.001</td>\n",
       "      <td>119.997760</td>\n",
       "    </tr>\n",
       "  </tbody>\n",
       "</table>\n",
       "</div>"
      ],
      "text/plain": [
       "             IG_MID     svm_fit\n",
       "2012-01-01  120.000  120.009851\n",
       "2012-01-02  120.000  119.989742\n",
       "2012-01-03  118.000  118.137969\n",
       "2012-01-04  118.750  118.740485\n",
       "2012-01-05  120.001  119.997760"
      ]
     },
     "execution_count": 31,
     "metadata": {},
     "output_type": "execute_result"
    }
   ],
   "source": [
    "train_res.head()"
   ]
  },
  {
   "cell_type": "code",
   "execution_count": 32,
   "metadata": {},
   "outputs": [],
   "source": [
    "test_res = pd.DataFrame(index=test_dates)\n",
    "test_res['IG_MID'] = test_df['IG_MID'].values\n",
    "test_res['svm_predict'] = svr_model.predict(X_test)\n",
    "test_res.to_csv(\"svm_test_res\"+\".csv\", index=True)"
   ]
  },
  {
   "cell_type": "code",
   "execution_count": 33,
   "metadata": {},
   "outputs": [
    {
     "data": {
      "text/html": [
       "<div>\n",
       "<style scoped>\n",
       "    .dataframe tbody tr th:only-of-type {\n",
       "        vertical-align: middle;\n",
       "    }\n",
       "\n",
       "    .dataframe tbody tr th {\n",
       "        vertical-align: top;\n",
       "    }\n",
       "\n",
       "    .dataframe thead th {\n",
       "        text-align: right;\n",
       "    }\n",
       "</style>\n",
       "<table border=\"1\" class=\"dataframe\">\n",
       "  <thead>\n",
       "    <tr style=\"text-align: right;\">\n",
       "      <th></th>\n",
       "      <th>IG_MID</th>\n",
       "      <th>svm_predict</th>\n",
       "    </tr>\n",
       "  </thead>\n",
       "  <tbody>\n",
       "    <tr>\n",
       "      <th>2021-11-25</th>\n",
       "      <td>53.020</td>\n",
       "      <td>55.060512</td>\n",
       "    </tr>\n",
       "    <tr>\n",
       "      <th>2021-11-26</th>\n",
       "      <td>57.454</td>\n",
       "      <td>60.078426</td>\n",
       "    </tr>\n",
       "    <tr>\n",
       "      <th>2021-11-27</th>\n",
       "      <td>57.454</td>\n",
       "      <td>65.667874</td>\n",
       "    </tr>\n",
       "    <tr>\n",
       "      <th>2021-11-28</th>\n",
       "      <td>57.454</td>\n",
       "      <td>69.262382</td>\n",
       "    </tr>\n",
       "    <tr>\n",
       "      <th>2021-11-29</th>\n",
       "      <td>55.083</td>\n",
       "      <td>70.565937</td>\n",
       "    </tr>\n",
       "  </tbody>\n",
       "</table>\n",
       "</div>"
      ],
      "text/plain": [
       "            IG_MID  svm_predict\n",
       "2021-11-25  53.020    55.060512\n",
       "2021-11-26  57.454    60.078426\n",
       "2021-11-27  57.454    65.667874\n",
       "2021-11-28  57.454    69.262382\n",
       "2021-11-29  55.083    70.565937"
      ]
     },
     "execution_count": 33,
     "metadata": {},
     "output_type": "execute_result"
    }
   ],
   "source": [
    "test_res.head()"
   ]
  },
  {
   "cell_type": "markdown",
   "metadata": {},
   "source": [
    " "
   ]
  },
  {
   "cell_type": "markdown",
   "metadata": {},
   "source": [
    "### <span style=\"color:DarkOliveGreen\">Performing grid-search CV"
   ]
  },
  {
   "cell_type": "code",
   "execution_count": null,
   "metadata": {},
   "outputs": [],
   "source": [
    "# We are going to use GridSearchCV method\n",
    "# for getting best parameters for our model\n",
    "# first we will provide some parameters as Dict here\n",
    "parameters = {\n",
    "        'C':[0.001,0.01,0.1,1,100,1000],\n",
    "        'epsilon': [0.0001, 0.0005, 0.001, 0.005, 0.01, 0.05, 0.1, 0.5, 1, 5, 10,  50, 100, 150, 1000],\n",
    "        'gamma': [0.0001, 0.001, 0.005, 0.1, 1, 3, 5, 8, 40, 100, 1000]\n",
    "    }\n",
    "\n",
    "# we will use Support Vector Regressor and kernel as Radial Basis Function\n",
    "gsc = GridSearchCV(\n",
    "        estimator=SVR(kernel='rbf'),\n",
    "        param_grid=parameters,\n",
    "        cv=10,\n",
    "        scoring='neg_mean_absolute_error'\n",
    "    )\n",
    "\n",
    "grid_result = gsc.fit(X_train, y_train)\n",
    "\n",
    "# storing and using best parameters\n",
    "# best parameters = min error\n",
    "best_param = grid_result.best_params_\n",
    "svr_model = SVR(kernel='rbf', C=best_param['C'], epsilon=best_param['epsilon'], gamma=best_param['gamma'])\n",
    "svr_model.fit(X_train, y_train)"
   ]
  },
  {
   "cell_type": "code",
   "execution_count": null,
   "metadata": {},
   "outputs": [],
   "source": [
    "svr_model = SVR(kernel='rbf', C=1000, epsilon=0.01, gamma=.01)\n",
    "svr_model.fit(X_train, y_train)"
   ]
  },
  {
   "cell_type": "code",
   "execution_count": null,
   "metadata": {},
   "outputs": [],
   "source": [
    "plt.figure(figsize = (12,6))\n",
    "plt.plot(dates,dates_df['IG_MID'], color= 'blue', label= 'Actual Spreads')\n",
    "\n",
    "plt.plot(train_dates, svr_model.predict(X_train), color= 'red', label= 'SVR train fit')\n",
    "plt.plot(test_dates, svr_model.predict(X_test), color= 'olive', label= 'SVR test fit')\n",
    "\n",
    "plt.xlabel('Date')\n",
    "plt.ylabel('CDX.NA.IG')\n",
    "plt.legend()\n",
    "plt.show()"
   ]
  },
  {
   "cell_type": "markdown",
   "metadata": {},
   "source": [
    " ### <span style=\"color:DarkOliveGreen\">Performing Parameter Hypertuning: Gamma"
   ]
  },
  {
   "cell_type": "code",
   "execution_count": null,
   "metadata": {},
   "outputs": [],
   "source": [
    "gamma1 = 0.1\n",
    "gamma2 = 0.01\n",
    "gamma3 = 0.001\n",
    "gamma4 = 0.0001\n",
    "\n",
    "svr_gamma1 = SVR(kernel='rbf', C=1000, epsilon=0.01, gamma=gamma1)\n",
    "svr_gamma2 = SVR(kernel='rbf', C=1000, epsilon=0.01, gamma=gamma2)\n",
    "svr_gamma3 = SVR(kernel='rbf', C=1000, epsilon=0.01, gamma=gamma3)\n",
    "svr_gamma4 = SVR(kernel='rbf', C=1000, epsilon=0.01, gamma=gamma4)\n",
    "\n",
    "svr_gamma1.fit(X_train, y_train)\n",
    "svr_gamma2.fit(X_train, y_train)\n",
    "svr_gamma3.fit(X_train, y_train)\n",
    "svr_gamma4.fit(X_train, y_train)\n",
    "\n",
    "fitted_gamma1 = svr_gamma1.predict(X_train)\n",
    "fitted_gamma2 = svr_gamma2.predict(X_train)\n",
    "fitted_gamma3 = svr_gamma3.predict(X_train)\n",
    "fitted_gamma4 = svr_gamma4.predict(X_train)"
   ]
  },
  {
   "cell_type": "code",
   "execution_count": null,
   "metadata": {},
   "outputs": [],
   "source": [
    "rmse1 = np.sqrt(mean_squared_error(y_train, svr_gamma1.predict(X_train)))\n",
    "rmse2 = np.sqrt(mean_squared_error(y_train, svr_gamma2.predict(X_train)))\n",
    "rmse3 = np.sqrt(mean_squared_error(y_train, svr_gamma3.predict(X_train)))\n",
    "rmse4 = np.sqrt(mean_squared_error(y_train, svr_gamma4.predict(X_train)))\n",
    "\n",
    "plt.figure(figsize = (12,6))\n",
    "plt.plot(train_dates,train_df['IG_MID'], color= 'blue', label= 'Actual Spreads')\n",
    "\n",
    "plt.plot(train_dates, fitted_gamma1, color= 'g', label= 'SVR Fit: gamma= ' + str(gamma1) + ', rmse= ' + str(round(rmse1,2)))\n",
    "plt.plot(train_dates, fitted_gamma2, color= 'k', label= 'SVR Fit: gamma= ' + str(gamma2) + ', rmse= ' + str(round(rmse2,2)))\n",
    "plt.plot(train_dates, fitted_gamma3, color= 'orange',label= 'SVR Fit: gamma= ' + str(gamma3) + ', rmse= ' + str(round(rmse3,2)))\n",
    "plt.plot(train_dates, fitted_gamma4, color= 'r',label= 'SVR Fit: gamma= ' + str(gamma4) + ', rmse= ' + str(round(rmse4,2)))\n",
    "\n",
    "plt.xlabel('Date')\n",
    "plt.ylabel('CDX.NA.IG')\n",
    "plt.legend()\n",
    "plt.show()"
   ]
  },
  {
   "cell_type": "code",
   "execution_count": null,
   "metadata": {},
   "outputs": [],
   "source": [
    "fig, ax = plt.subplots(2, 2 ,figsize=(18,8))\n",
    "\n",
    "ax[0, 0].plot(train_dates, train_df['IG_MID'], 'b')\n",
    "ax[1, 0].plot(train_dates, train_df['IG_MID'], 'b')\n",
    "ax[0, 1].plot(train_dates, train_df['IG_MID'], 'b')\n",
    "ax[1, 1].plot(train_dates, train_df['IG_MID'], 'b')\n",
    "\n",
    "ax[0, 0].plot(train_dates, fitted_gamma1, 'g')\n",
    "ax[1, 0].plot(train_dates, fitted_gamma2, 'k') \n",
    "ax[0, 1].plot(train_dates, fitted_gamma3, 'orange')\n",
    "ax[1, 1].plot(train_dates, fitted_gamma4, 'r')\n",
    "\n",
    "ax[0,0].title.set_text('gamma= ' + str(gamma1) + ', rmse= ' + str(round(rmse1,2)))\n",
    "ax[1,0].title.set_text('gamma= ' + str(gamma2)+ ', rmse= ' + str(round(rmse2,2)))\n",
    "ax[0,1].title.set_text('gamma= ' + str(gamma3)+ ', rmse= ' + str(round(rmse3,2)))\n",
    "ax[1,1].title.set_text('gamma= ' + str(gamma4)+ ', rmse= ' + str(round(rmse4,2)))\n",
    "\n",
    "plt.tight_layout()\n",
    "fig.show()"
   ]
  },
  {
   "cell_type": "markdown",
   "metadata": {},
   "source": [
    " "
   ]
  },
  {
   "cell_type": "markdown",
   "metadata": {},
   "source": [
    " "
   ]
  },
  {
   "cell_type": "markdown",
   "metadata": {},
   "source": [
    "      "
   ]
  },
  {
   "cell_type": "markdown",
   "metadata": {},
   "source": [
    "      "
   ]
  }
 ],
 "metadata": {
  "kernelspec": {
   "display_name": "Python 3",
   "language": "python",
   "name": "python3"
  },
  "language_info": {
   "codemirror_mode": {
    "name": "ipython",
    "version": 3
   },
   "file_extension": ".py",
   "mimetype": "text/x-python",
   "name": "python",
   "nbconvert_exporter": "python",
   "pygments_lexer": "ipython3",
   "version": "3.7.4"
  }
 },
 "nbformat": 4,
 "nbformat_minor": 4
}
