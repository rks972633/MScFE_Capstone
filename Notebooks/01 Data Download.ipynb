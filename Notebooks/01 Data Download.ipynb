{
 "cells": [
  {
   "cell_type": "markdown",
   "metadata": {},
   "source": [
    "# <span style=\"color:DarkOliveGreen\">Data Gathering"
   ]
  },
  {
   "cell_type": "markdown",
   "metadata": {},
   "source": [
    "<span style=\"color:Olive\">__Summary:__ In this file we shall download the data from Bloomberg and save it as csv file."
   ]
  },
  {
   "cell_type": "code",
   "execution_count": 1,
   "metadata": {},
   "outputs": [],
   "source": [
    "# Import required libraries\n",
    "import warnings\n",
    "warnings.filterwarnings('ignore')\n",
    "from pandas_datareader import data\n",
    "import pandas as pd\n",
    "import numpy as np\n",
    "import matplotlib.pyplot as plt\n",
    "\n",
    "from scipy.stats import norm\n",
    "import os\n",
    "from xbbg import blp, pipeline\n",
    "np.random.seed(0)\n",
    "\n",
    "from xbbg import blp, pipeline\n",
    "import datetime\n",
    "# BDay is business day, not birthday...\n",
    "from pandas.tseries.offsets import BDay\n",
    "\n",
    "today = datetime.datetime.today()"
   ]
  },
  {
   "cell_type": "code",
   "execution_count": 18,
   "metadata": {},
   "outputs": [],
   "source": [
    "# User defined names\n",
    "index = \"CDX.NA.IG\"\n",
    "ticker = \"CDX IG CDSI GEN 5Y Corp\"\n",
    "# Define the date range\n",
    "start_date = '2018-01-01'\n",
    "end_date = (today - BDay(1)).strftime('%Y-%m-%d')"
   ]
  },
  {
   "cell_type": "code",
   "execution_count": 19,
   "metadata": {},
   "outputs": [
    {
     "name": "stdout",
     "output_type": "stream",
     "text": [
      "C:\\Users\\rsingh\\Desktop\\World Quant\\Capstone\\GitHub_main\\Data\n"
     ]
    }
   ],
   "source": [
    "# Get current working directory\n",
    "mycwd = os.getcwd()\n",
    "print(mycwd)"
   ]
  },
  {
   "cell_type": "code",
   "execution_count": 20,
   "metadata": {},
   "outputs": [],
   "source": [
    "# Change to data directory\n",
    "os.chdir(\"..\")\n",
    "os.chdir(str(os.getcwd()) + \"\\\\Data\")"
   ]
  },
  {
   "cell_type": "markdown",
   "metadata": {},
   "source": [
    "        "
   ]
  },
  {
   "cell_type": "markdown",
   "metadata": {},
   "source": [
    "## <span style=\"color:DarkOliveGreen\">Functions"
   ]
  },
  {
   "cell_type": "code",
   "execution_count": 21,
   "metadata": {},
   "outputs": [],
   "source": [
    "def get_bbg_df(ticker, field, col_name, start_date, end_date):\n",
    "    df = pd.DataFrame()\n",
    "    df = blp.bdh(tickers=ticker,flds=field,start_date=start_date,end_date=end_date,Per='D', Fill='P', Days='A',\n",
    "                )[ticker]\n",
    "    df[col_name] = df[field]\n",
    "    df.drop([field], axis=1,inplace=True)\n",
    "    return df"
   ]
  },
  {
   "cell_type": "markdown",
   "metadata": {},
   "source": [
    "   "
   ]
  },
  {
   "cell_type": "markdown",
   "metadata": {},
   "source": [
    "## <span style=\"color:DarkOliveGreen\">Download the Data"
   ]
  },
  {
   "cell_type": "code",
   "execution_count": 22,
   "metadata": {},
   "outputs": [],
   "source": [
    "IG_bid_df = get_bbg_df('CDX IG CDSI GEN 5Y Corp', 'px_bid', 'IG_BID', start_date, end_date)\n",
    "IG_ask_df = get_bbg_df('CDX IG CDSI GEN 5Y Corp', 'px_ask', 'IG_ASK', start_date, end_date)\n",
    "IG_mid_df = get_bbg_df('CDX IG CDSI GEN 5Y Corp', 'px_mid', 'IG_MID', start_date, end_date)\n",
    "SPX_df = get_bbg_df('SPX Index', 'px_last', 'SPX', start_date, end_date)\n",
    "VIX_df = get_bbg_df('VIX Index', 'px_last', 'VIX', start_date, end_date)\n",
    "SPOT_df = get_bbg_df('H15T3M Index', 'px_last', 'SPOT', start_date, end_date)\n",
    "\n",
    "IG_ABS_df = IG_bid_df\n",
    "IG_ABS_df['IG_ABS'] = (IG_ask_df.values - IG_bid_df.values)\n",
    "IG_ABS_df.drop('IG_BID',axis=1,inplace=True)"
   ]
  },
  {
   "cell_type": "code",
   "execution_count": 23,
   "metadata": {},
   "outputs": [],
   "source": [
    "UST_tenors = ['3M','6M','1Y','2Y','3Y','5Y','7Y','10Y','20Y','30Y']\n",
    "for t in UST_tenors:\n",
    "    if t=='3M':\n",
    "        UST_df = get_bbg_df('H15T'+t+' Index', 'px_mid', \"UST_\"+t, start_date, end_date)\n",
    "    else:\n",
    "        UST_df = pd.concat([UST_df,get_bbg_df('H15T'+t+' Index', 'px_mid', \"UST_\"+t, start_date, end_date)],axis=1)"
   ]
  },
  {
   "cell_type": "code",
   "execution_count": 26,
   "metadata": {},
   "outputs": [],
   "source": [
    "df = pd.concat([IG_ABS_df, SPX_df, VIX_df, SPOT_df,UST_df,IG_mid_df], axis=1)"
   ]
  },
  {
   "cell_type": "code",
   "execution_count": 27,
   "metadata": {},
   "outputs": [
    {
     "data": {
      "text/html": [
       "<div>\n",
       "<style scoped>\n",
       "    .dataframe tbody tr th:only-of-type {\n",
       "        vertical-align: middle;\n",
       "    }\n",
       "\n",
       "    .dataframe tbody tr th {\n",
       "        vertical-align: top;\n",
       "    }\n",
       "\n",
       "    .dataframe thead th {\n",
       "        text-align: right;\n",
       "    }\n",
       "</style>\n",
       "<table border=\"1\" class=\"dataframe\">\n",
       "  <thead>\n",
       "    <tr style=\"text-align: right;\">\n",
       "      <th></th>\n",
       "      <th>IG_ABS</th>\n",
       "      <th>SPX</th>\n",
       "      <th>VIX</th>\n",
       "      <th>SPOT</th>\n",
       "      <th>UST_3M</th>\n",
       "      <th>UST_6M</th>\n",
       "      <th>UST_1Y</th>\n",
       "      <th>UST_2Y</th>\n",
       "      <th>UST_3Y</th>\n",
       "      <th>UST_5Y</th>\n",
       "      <th>UST_7Y</th>\n",
       "      <th>UST_10Y</th>\n",
       "      <th>UST_20Y</th>\n",
       "      <th>UST_30Y</th>\n",
       "      <th>IG_MID</th>\n",
       "    </tr>\n",
       "  </thead>\n",
       "  <tbody>\n",
       "    <tr>\n",
       "      <th>2018-01-01</th>\n",
       "      <td>0.574</td>\n",
       "      <td>2673.61</td>\n",
       "      <td>11.04</td>\n",
       "      <td>1.39</td>\n",
       "      <td>1.39</td>\n",
       "      <td>1.53</td>\n",
       "      <td>1.76</td>\n",
       "      <td>1.89</td>\n",
       "      <td>1.98</td>\n",
       "      <td>2.20</td>\n",
       "      <td>2.33</td>\n",
       "      <td>2.40</td>\n",
       "      <td>2.58</td>\n",
       "      <td>2.74</td>\n",
       "      <td>49.020</td>\n",
       "    </tr>\n",
       "    <tr>\n",
       "      <th>2018-01-02</th>\n",
       "      <td>0.400</td>\n",
       "      <td>2695.81</td>\n",
       "      <td>9.77</td>\n",
       "      <td>1.44</td>\n",
       "      <td>1.44</td>\n",
       "      <td>1.61</td>\n",
       "      <td>1.83</td>\n",
       "      <td>1.92</td>\n",
       "      <td>2.01</td>\n",
       "      <td>2.25</td>\n",
       "      <td>2.38</td>\n",
       "      <td>2.46</td>\n",
       "      <td>2.64</td>\n",
       "      <td>2.81</td>\n",
       "      <td>48.455</td>\n",
       "    </tr>\n",
       "    <tr>\n",
       "      <th>2018-01-03</th>\n",
       "      <td>0.444</td>\n",
       "      <td>2713.06</td>\n",
       "      <td>9.15</td>\n",
       "      <td>1.41</td>\n",
       "      <td>1.41</td>\n",
       "      <td>1.59</td>\n",
       "      <td>1.81</td>\n",
       "      <td>1.94</td>\n",
       "      <td>2.02</td>\n",
       "      <td>2.25</td>\n",
       "      <td>2.37</td>\n",
       "      <td>2.44</td>\n",
       "      <td>2.62</td>\n",
       "      <td>2.78</td>\n",
       "      <td>47.095</td>\n",
       "    </tr>\n",
       "    <tr>\n",
       "      <th>2018-01-04</th>\n",
       "      <td>0.467</td>\n",
       "      <td>2723.99</td>\n",
       "      <td>9.22</td>\n",
       "      <td>1.41</td>\n",
       "      <td>1.41</td>\n",
       "      <td>1.60</td>\n",
       "      <td>1.82</td>\n",
       "      <td>1.96</td>\n",
       "      <td>2.05</td>\n",
       "      <td>2.27</td>\n",
       "      <td>2.38</td>\n",
       "      <td>2.46</td>\n",
       "      <td>2.62</td>\n",
       "      <td>2.79</td>\n",
       "      <td>45.877</td>\n",
       "    </tr>\n",
       "    <tr>\n",
       "      <th>2018-01-05</th>\n",
       "      <td>0.475</td>\n",
       "      <td>2743.15</td>\n",
       "      <td>9.22</td>\n",
       "      <td>1.39</td>\n",
       "      <td>1.39</td>\n",
       "      <td>1.58</td>\n",
       "      <td>1.80</td>\n",
       "      <td>1.96</td>\n",
       "      <td>2.06</td>\n",
       "      <td>2.29</td>\n",
       "      <td>2.40</td>\n",
       "      <td>2.47</td>\n",
       "      <td>2.64</td>\n",
       "      <td>2.81</td>\n",
       "      <td>45.518</td>\n",
       "    </tr>\n",
       "    <tr>\n",
       "      <th>...</th>\n",
       "      <td>...</td>\n",
       "      <td>...</td>\n",
       "      <td>...</td>\n",
       "      <td>...</td>\n",
       "      <td>...</td>\n",
       "      <td>...</td>\n",
       "      <td>...</td>\n",
       "      <td>...</td>\n",
       "      <td>...</td>\n",
       "      <td>...</td>\n",
       "      <td>...</td>\n",
       "      <td>...</td>\n",
       "      <td>...</td>\n",
       "      <td>...</td>\n",
       "      <td>...</td>\n",
       "    </tr>\n",
       "    <tr>\n",
       "      <th>2023-02-03</th>\n",
       "      <td>0.852</td>\n",
       "      <td>4136.48</td>\n",
       "      <td>18.33</td>\n",
       "      <td>4.70</td>\n",
       "      <td>4.70</td>\n",
       "      <td>4.82</td>\n",
       "      <td>4.79</td>\n",
       "      <td>4.30</td>\n",
       "      <td>3.96</td>\n",
       "      <td>3.67</td>\n",
       "      <td>3.61</td>\n",
       "      <td>3.53</td>\n",
       "      <td>3.77</td>\n",
       "      <td>3.63</td>\n",
       "      <td>69.044</td>\n",
       "    </tr>\n",
       "    <tr>\n",
       "      <th>2023-02-04</th>\n",
       "      <td>0.852</td>\n",
       "      <td>4136.48</td>\n",
       "      <td>18.33</td>\n",
       "      <td>4.70</td>\n",
       "      <td>4.70</td>\n",
       "      <td>4.82</td>\n",
       "      <td>4.79</td>\n",
       "      <td>4.30</td>\n",
       "      <td>3.96</td>\n",
       "      <td>3.67</td>\n",
       "      <td>3.61</td>\n",
       "      <td>3.53</td>\n",
       "      <td>3.77</td>\n",
       "      <td>3.63</td>\n",
       "      <td>69.044</td>\n",
       "    </tr>\n",
       "    <tr>\n",
       "      <th>2023-02-05</th>\n",
       "      <td>0.852</td>\n",
       "      <td>4136.48</td>\n",
       "      <td>18.33</td>\n",
       "      <td>4.70</td>\n",
       "      <td>4.70</td>\n",
       "      <td>4.82</td>\n",
       "      <td>4.79</td>\n",
       "      <td>4.30</td>\n",
       "      <td>3.96</td>\n",
       "      <td>3.67</td>\n",
       "      <td>3.61</td>\n",
       "      <td>3.53</td>\n",
       "      <td>3.77</td>\n",
       "      <td>3.63</td>\n",
       "      <td>69.044</td>\n",
       "    </tr>\n",
       "    <tr>\n",
       "      <th>2023-02-06</th>\n",
       "      <td>0.569</td>\n",
       "      <td>4111.08</td>\n",
       "      <td>19.43</td>\n",
       "      <td>4.71</td>\n",
       "      <td>4.71</td>\n",
       "      <td>4.89</td>\n",
       "      <td>4.85</td>\n",
       "      <td>4.44</td>\n",
       "      <td>4.10</td>\n",
       "      <td>3.81</td>\n",
       "      <td>3.73</td>\n",
       "      <td>3.63</td>\n",
       "      <td>3.82</td>\n",
       "      <td>3.67</td>\n",
       "      <td>70.166</td>\n",
       "    </tr>\n",
       "    <tr>\n",
       "      <th>2023-02-07</th>\n",
       "      <td>0.595</td>\n",
       "      <td>4164.00</td>\n",
       "      <td>18.66</td>\n",
       "      <td>4.71</td>\n",
       "      <td>4.71</td>\n",
       "      <td>4.89</td>\n",
       "      <td>4.88</td>\n",
       "      <td>4.47</td>\n",
       "      <td>4.11</td>\n",
       "      <td>3.85</td>\n",
       "      <td>3.78</td>\n",
       "      <td>3.67</td>\n",
       "      <td>3.87</td>\n",
       "      <td>3.72</td>\n",
       "      <td>68.711</td>\n",
       "    </tr>\n",
       "  </tbody>\n",
       "</table>\n",
       "<p>1864 rows × 15 columns</p>\n",
       "</div>"
      ],
      "text/plain": [
       "            IG_ABS      SPX    VIX  SPOT  UST_3M  UST_6M  UST_1Y  UST_2Y  \\\n",
       "2018-01-01   0.574  2673.61  11.04  1.39    1.39    1.53    1.76    1.89   \n",
       "2018-01-02   0.400  2695.81   9.77  1.44    1.44    1.61    1.83    1.92   \n",
       "2018-01-03   0.444  2713.06   9.15  1.41    1.41    1.59    1.81    1.94   \n",
       "2018-01-04   0.467  2723.99   9.22  1.41    1.41    1.60    1.82    1.96   \n",
       "2018-01-05   0.475  2743.15   9.22  1.39    1.39    1.58    1.80    1.96   \n",
       "...            ...      ...    ...   ...     ...     ...     ...     ...   \n",
       "2023-02-03   0.852  4136.48  18.33  4.70    4.70    4.82    4.79    4.30   \n",
       "2023-02-04   0.852  4136.48  18.33  4.70    4.70    4.82    4.79    4.30   \n",
       "2023-02-05   0.852  4136.48  18.33  4.70    4.70    4.82    4.79    4.30   \n",
       "2023-02-06   0.569  4111.08  19.43  4.71    4.71    4.89    4.85    4.44   \n",
       "2023-02-07   0.595  4164.00  18.66  4.71    4.71    4.89    4.88    4.47   \n",
       "\n",
       "            UST_3Y  UST_5Y  UST_7Y  UST_10Y  UST_20Y  UST_30Y  IG_MID  \n",
       "2018-01-01    1.98    2.20    2.33     2.40     2.58     2.74  49.020  \n",
       "2018-01-02    2.01    2.25    2.38     2.46     2.64     2.81  48.455  \n",
       "2018-01-03    2.02    2.25    2.37     2.44     2.62     2.78  47.095  \n",
       "2018-01-04    2.05    2.27    2.38     2.46     2.62     2.79  45.877  \n",
       "2018-01-05    2.06    2.29    2.40     2.47     2.64     2.81  45.518  \n",
       "...            ...     ...     ...      ...      ...      ...     ...  \n",
       "2023-02-03    3.96    3.67    3.61     3.53     3.77     3.63  69.044  \n",
       "2023-02-04    3.96    3.67    3.61     3.53     3.77     3.63  69.044  \n",
       "2023-02-05    3.96    3.67    3.61     3.53     3.77     3.63  69.044  \n",
       "2023-02-06    4.10    3.81    3.73     3.63     3.82     3.67  70.166  \n",
       "2023-02-07    4.11    3.85    3.78     3.67     3.87     3.72  68.711  \n",
       "\n",
       "[1864 rows x 15 columns]"
      ]
     },
     "execution_count": 27,
     "metadata": {},
     "output_type": "execute_result"
    }
   ],
   "source": [
    "df"
   ]
  },
  {
   "cell_type": "markdown",
   "metadata": {},
   "source": [
    "## <span style=\"color:DarkOliveGreen\">Save the Data"
   ]
  },
  {
   "cell_type": "code",
   "execution_count": 29,
   "metadata": {},
   "outputs": [],
   "source": [
    "os.chdir(\"..\")\n",
    "os.chdir(str(os.getcwd()) + \"\\\\Data\")\n",
    "df.to_csv(\"input_data.csv\", index=True)"
   ]
  },
  {
   "cell_type": "markdown",
   "metadata": {},
   "source": [
    "    "
   ]
  },
  {
   "cell_type": "markdown",
   "metadata": {},
   "source": [
    "### <span style=\"color:DarkOliveGreen\">Time Series Plot of CDX.NA.IG"
   ]
  },
  {
   "cell_type": "code",
   "execution_count": 31,
   "metadata": {
    "scrolled": true
   },
   "outputs": [
    {
     "data": {
      "image/png": "[encoded data removed]",
      "text/plain": [
       "<Figure size 1200x300 with 1 Axes>"
      ]
     },
     "metadata": {},
     "output_type": "display_data"
    }
   ],
   "source": [
    "plt.figure(figsize=(12,3))\n",
    "plt.plot(df['IG_MID'], alpha=0.5)\n",
    "plt.title('{} Historicals'.format(index), fontsize=16)\n",
    "plt.xlabel('Date', fontsize=12)\n",
    "plt.grid()\n",
    "plt.show()"
   ]
  },
  {
   "cell_type": "markdown",
   "metadata": {},
   "source": [
    "         "
   ]
  }
 ],
 "metadata": {
  "kernelspec": {
   "display_name": "Python 3 (ipykernel)",
   "language": "python",
   "name": "python3"
  },
  "language_info": {
   "codemirror_mode": {
    "name": "ipython",
    "version": 3
   },
   "file_extension": ".py",
   "mimetype": "text/x-python",
   "name": "python",
   "nbconvert_exporter": "python",
   "pygments_lexer": "ipython3",
   "version": "3.9.13"
  }
 },
 "nbformat": 4,
 "nbformat_minor": 4
}
