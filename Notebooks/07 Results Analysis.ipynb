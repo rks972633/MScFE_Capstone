{
 "cells": [
  {
   "cell_type": "markdown",
   "metadata": {},
   "source": [
    "# <span style=\"color:DarkOliveGreen\">Result Analysis on CDX.NA.IG Forecasting"
   ]
  },
  {
   "cell_type": "markdown",
   "metadata": {},
   "source": [
    "__Summary:__ <span style=\"color:Blue\">Comparing the results from LSTM, LSTM+Hurst and SVR Models"
   ]
  },
  {
   "cell_type": "code",
   "execution_count": 1,
   "metadata": {},
   "outputs": [],
   "source": [
    "# Import required libraries\n",
    "import warnings\n",
    "warnings.filterwarnings('ignore')\n",
    "import pandas as pd\n",
    "import numpy as np\n",
    "import matplotlib.pyplot as plt\n",
    "import hurst as hs\n",
    "import os\n",
    "from statsmodels.tsa.seasonal import seasonal_decompose\n",
    "from sklearn.metrics import mean_squared_error\n",
    "import datetime\n",
    "\n",
    "np.random.seed(0)"
   ]
  },
  {
   "cell_type": "code",
   "execution_count": 2,
   "metadata": {},
   "outputs": [],
   "source": [
    "# User defined names\n",
    "index = \"CDX.NA.IG\"\n",
    "filename = \"input_data.csv\"\n",
    "date_col = \"Date\""
   ]
  },
  {
   "cell_type": "code",
   "execution_count": 3,
   "metadata": {},
   "outputs": [
    {
     "name": "stdout",
     "output_type": "stream",
     "text": [
      "C:\\Users\\rsingh\\Desktop\\WorldQuant\\Capstone\\Draft Submission\\MScFE_Capstone-main\\Notebooks\n"
     ]
    }
   ],
   "source": [
    "# Get current working directory\n",
    "mycwd = os.getcwd()\n",
    "print(mycwd)"
   ]
  },
  {
   "cell_type": "code",
   "execution_count": 4,
   "metadata": {},
   "outputs": [],
   "source": [
    "# Change to data directory\n",
    "os.chdir(\"..\")\n",
    "os.chdir(str(os.getcwd()) + \"\\\\Data\")"
   ]
  },
  {
   "cell_type": "markdown",
   "metadata": {},
   "source": [
    "#### <span style=\"color:DarkOliveGreen\">Read input data as df:"
   ]
  },
  {
   "cell_type": "code",
   "execution_count": 5,
   "metadata": {},
   "outputs": [
    {
     "data": {
      "text/html": [
       "<div>\n",
       "<style scoped>\n",
       "    .dataframe tbody tr th:only-of-type {\n",
       "        vertical-align: middle;\n",
       "    }\n",
       "\n",
       "    .dataframe tbody tr th {\n",
       "        vertical-align: top;\n",
       "    }\n",
       "\n",
       "    .dataframe thead th {\n",
       "        text-align: right;\n",
       "    }\n",
       "</style>\n",
       "<table border=\"1\" class=\"dataframe\">\n",
       "  <thead>\n",
       "    <tr style=\"text-align: right;\">\n",
       "      <th></th>\n",
       "      <th>IG_BO</th>\n",
       "      <th>SPX</th>\n",
       "      <th>VIX</th>\n",
       "      <th>UST_3M</th>\n",
       "      <th>UST_6M</th>\n",
       "      <th>UST_1Y</th>\n",
       "      <th>UST_2Y</th>\n",
       "      <th>UST_3Y</th>\n",
       "      <th>UST_5Y</th>\n",
       "      <th>UST_7Y</th>\n",
       "      <th>UST_10Y</th>\n",
       "      <th>UST_20Y</th>\n",
       "      <th>UST_30Y</th>\n",
       "      <th>IG_MID</th>\n",
       "    </tr>\n",
       "    <tr>\n",
       "      <th>Date</th>\n",
       "      <th></th>\n",
       "      <th></th>\n",
       "      <th></th>\n",
       "      <th></th>\n",
       "      <th></th>\n",
       "      <th></th>\n",
       "      <th></th>\n",
       "      <th></th>\n",
       "      <th></th>\n",
       "      <th></th>\n",
       "      <th></th>\n",
       "      <th></th>\n",
       "      <th></th>\n",
       "      <th></th>\n",
       "    </tr>\n",
       "  </thead>\n",
       "  <tbody>\n",
       "    <tr>\n",
       "      <th>2012-01-01</th>\n",
       "      <td>1.500</td>\n",
       "      <td>1257.61</td>\n",
       "      <td>23.40</td>\n",
       "      <td>0.02</td>\n",
       "      <td>0.06</td>\n",
       "      <td>0.12</td>\n",
       "      <td>0.25</td>\n",
       "      <td>0.36</td>\n",
       "      <td>0.83</td>\n",
       "      <td>1.35</td>\n",
       "      <td>1.89</td>\n",
       "      <td>2.57</td>\n",
       "      <td>2.89</td>\n",
       "      <td>120.000</td>\n",
       "    </tr>\n",
       "    <tr>\n",
       "      <th>2012-01-02</th>\n",
       "      <td>1.500</td>\n",
       "      <td>1257.61</td>\n",
       "      <td>23.40</td>\n",
       "      <td>0.02</td>\n",
       "      <td>0.06</td>\n",
       "      <td>0.12</td>\n",
       "      <td>0.25</td>\n",
       "      <td>0.36</td>\n",
       "      <td>0.83</td>\n",
       "      <td>1.35</td>\n",
       "      <td>1.89</td>\n",
       "      <td>2.57</td>\n",
       "      <td>2.89</td>\n",
       "      <td>120.000</td>\n",
       "    </tr>\n",
       "    <tr>\n",
       "      <th>2012-01-03</th>\n",
       "      <td>1.000</td>\n",
       "      <td>1277.06</td>\n",
       "      <td>22.97</td>\n",
       "      <td>0.02</td>\n",
       "      <td>0.06</td>\n",
       "      <td>0.12</td>\n",
       "      <td>0.27</td>\n",
       "      <td>0.40</td>\n",
       "      <td>0.89</td>\n",
       "      <td>1.41</td>\n",
       "      <td>1.97</td>\n",
       "      <td>2.67</td>\n",
       "      <td>2.98</td>\n",
       "      <td>118.000</td>\n",
       "    </tr>\n",
       "    <tr>\n",
       "      <th>2012-01-04</th>\n",
       "      <td>1.000</td>\n",
       "      <td>1277.30</td>\n",
       "      <td>22.22</td>\n",
       "      <td>0.02</td>\n",
       "      <td>0.06</td>\n",
       "      <td>0.12</td>\n",
       "      <td>0.25</td>\n",
       "      <td>0.40</td>\n",
       "      <td>0.89</td>\n",
       "      <td>1.43</td>\n",
       "      <td>2.00</td>\n",
       "      <td>2.71</td>\n",
       "      <td>3.03</td>\n",
       "      <td>118.750</td>\n",
       "    </tr>\n",
       "    <tr>\n",
       "      <th>2012-01-05</th>\n",
       "      <td>0.917</td>\n",
       "      <td>1281.06</td>\n",
       "      <td>21.48</td>\n",
       "      <td>0.02</td>\n",
       "      <td>0.07</td>\n",
       "      <td>0.11</td>\n",
       "      <td>0.27</td>\n",
       "      <td>0.40</td>\n",
       "      <td>0.88</td>\n",
       "      <td>1.43</td>\n",
       "      <td>2.02</td>\n",
       "      <td>2.74</td>\n",
       "      <td>3.06</td>\n",
       "      <td>120.001</td>\n",
       "    </tr>\n",
       "  </tbody>\n",
       "</table>\n",
       "</div>"
      ],
      "text/plain": [
       "            IG_BO      SPX    VIX  UST_3M  UST_6M  UST_1Y  UST_2Y  UST_3Y  \\\n",
       "Date                                                                        \n",
       "2012-01-01  1.500  1257.61  23.40    0.02    0.06    0.12    0.25    0.36   \n",
       "2012-01-02  1.500  1257.61  23.40    0.02    0.06    0.12    0.25    0.36   \n",
       "2012-01-03  1.000  1277.06  22.97    0.02    0.06    0.12    0.27    0.40   \n",
       "2012-01-04  1.000  1277.30  22.22    0.02    0.06    0.12    0.25    0.40   \n",
       "2012-01-05  0.917  1281.06  21.48    0.02    0.07    0.11    0.27    0.40   \n",
       "\n",
       "            UST_5Y  UST_7Y  UST_10Y  UST_20Y  UST_30Y   IG_MID  \n",
       "Date                                                            \n",
       "2012-01-01    0.83    1.35     1.89     2.57     2.89  120.000  \n",
       "2012-01-02    0.83    1.35     1.89     2.57     2.89  120.000  \n",
       "2012-01-03    0.89    1.41     1.97     2.67     2.98  118.000  \n",
       "2012-01-04    0.89    1.43     2.00     2.71     3.03  118.750  \n",
       "2012-01-05    0.88    1.43     2.02     2.74     3.06  120.001  "
      ]
     },
     "execution_count": 5,
     "metadata": {},
     "output_type": "execute_result"
    }
   ],
   "source": [
    "# Read the data\n",
    "df = pd.read_csv(filename, index_col=date_col)\n",
    "df.index = pd.to_datetime(df.index)\n",
    "df.head()"
   ]
  },
  {
   "cell_type": "code",
   "execution_count": 6,
   "metadata": {},
   "outputs": [
    {
     "name": "stdout",
     "output_type": "stream",
     "text": [
      "shape: (4018, 14)\n",
      "first date: 2012-01-01 00:00:00\n",
      "last date: 2022-12-31 00:00:00\n"
     ]
    }
   ],
   "source": [
    "print(\"shape:\",df.shape)\n",
    "print(\"first date:\",df.index[0])\n",
    "print(\"last date:\",df.index[-1])"
   ]
  },
  {
   "cell_type": "markdown",
   "metadata": {},
   "source": [
    "       "
   ]
  },
  {
   "cell_type": "markdown",
   "metadata": {},
   "source": [
    "#### <span style=\"color:DarkOliveGreen\">Read LSTM results as lstm_train_df and lstm_test_df:"
   ]
  },
  {
   "cell_type": "code",
   "execution_count": 7,
   "metadata": {},
   "outputs": [
    {
     "data": {
      "text/html": [
       "<div>\n",
       "<style scoped>\n",
       "    .dataframe tbody tr th:only-of-type {\n",
       "        vertical-align: middle;\n",
       "    }\n",
       "\n",
       "    .dataframe tbody tr th {\n",
       "        vertical-align: top;\n",
       "    }\n",
       "\n",
       "    .dataframe thead th {\n",
       "        text-align: right;\n",
       "    }\n",
       "</style>\n",
       "<table border=\"1\" class=\"dataframe\">\n",
       "  <thead>\n",
       "    <tr style=\"text-align: right;\">\n",
       "      <th></th>\n",
       "      <th>Date</th>\n",
       "      <th>IG_MID</th>\n",
       "      <th>lstm_fit</th>\n",
       "    </tr>\n",
       "  </thead>\n",
       "  <tbody>\n",
       "    <tr>\n",
       "      <th>0</th>\n",
       "      <td>2012-01-01</td>\n",
       "      <td>120.000</td>\n",
       "      <td>119.818820</td>\n",
       "    </tr>\n",
       "    <tr>\n",
       "      <th>1</th>\n",
       "      <td>2012-01-02</td>\n",
       "      <td>118.000</td>\n",
       "      <td>119.818820</td>\n",
       "    </tr>\n",
       "    <tr>\n",
       "      <th>2</th>\n",
       "      <td>2012-01-03</td>\n",
       "      <td>118.750</td>\n",
       "      <td>117.902855</td>\n",
       "    </tr>\n",
       "    <tr>\n",
       "      <th>3</th>\n",
       "      <td>2012-01-04</td>\n",
       "      <td>120.001</td>\n",
       "      <td>118.622710</td>\n",
       "    </tr>\n",
       "    <tr>\n",
       "      <th>4</th>\n",
       "      <td>2012-01-05</td>\n",
       "      <td>120.000</td>\n",
       "      <td>119.819770</td>\n",
       "    </tr>\n",
       "  </tbody>\n",
       "</table>\n",
       "</div>"
      ],
      "text/plain": [
       "         Date   IG_MID    lstm_fit\n",
       "0  2012-01-01  120.000  119.818820\n",
       "1  2012-01-02  118.000  119.818820\n",
       "2  2012-01-03  118.750  117.902855\n",
       "3  2012-01-04  120.001  118.622710\n",
       "4  2012-01-05  120.000  119.819770"
      ]
     },
     "execution_count": 7,
     "metadata": {},
     "output_type": "execute_result"
    }
   ],
   "source": [
    "lstm_train_df = pd.read_csv('lstm_train_res.csv')#, index_col=date_col)\n",
    "lstm_train_df.rename( columns={'Unnamed: 0':'Date'}, inplace=True )\n",
    "lstm_train_df.head()"
   ]
  },
  {
   "cell_type": "code",
   "execution_count": 27,
   "metadata": {},
   "outputs": [
    {
     "data": {
      "text/html": [
       "<div>\n",
       "<style scoped>\n",
       "    .dataframe tbody tr th:only-of-type {\n",
       "        vertical-align: middle;\n",
       "    }\n",
       "\n",
       "    .dataframe tbody tr th {\n",
       "        vertical-align: top;\n",
       "    }\n",
       "\n",
       "    .dataframe thead th {\n",
       "        text-align: right;\n",
       "    }\n",
       "</style>\n",
       "<table border=\"1\" class=\"dataframe\">\n",
       "  <thead>\n",
       "    <tr style=\"text-align: right;\">\n",
       "      <th></th>\n",
       "      <th>Date</th>\n",
       "      <th>IG_MID</th>\n",
       "      <th>lstm_predict</th>\n",
       "    </tr>\n",
       "  </thead>\n",
       "  <tbody>\n",
       "    <tr>\n",
       "      <th>0</th>\n",
       "      <td>2021-11-26</td>\n",
       "      <td>57.454</td>\n",
       "      <td>53.086490</td>\n",
       "    </tr>\n",
       "    <tr>\n",
       "      <th>1</th>\n",
       "      <td>2021-11-27</td>\n",
       "      <td>57.454</td>\n",
       "      <td>57.459650</td>\n",
       "    </tr>\n",
       "    <tr>\n",
       "      <th>2</th>\n",
       "      <td>2021-11-28</td>\n",
       "      <td>57.454</td>\n",
       "      <td>57.459650</td>\n",
       "    </tr>\n",
       "    <tr>\n",
       "      <th>3</th>\n",
       "      <td>2021-11-29</td>\n",
       "      <td>55.083</td>\n",
       "      <td>57.459650</td>\n",
       "    </tr>\n",
       "    <tr>\n",
       "      <th>4</th>\n",
       "      <td>2021-11-30</td>\n",
       "      <td>57.687</td>\n",
       "      <td>55.116882</td>\n",
       "    </tr>\n",
       "  </tbody>\n",
       "</table>\n",
       "</div>"
      ],
      "text/plain": [
       "         Date  IG_MID  lstm_predict\n",
       "0  2021-11-26  57.454     53.086490\n",
       "1  2021-11-27  57.454     57.459650\n",
       "2  2021-11-28  57.454     57.459650\n",
       "3  2021-11-29  55.083     57.459650\n",
       "4  2021-11-30  57.687     55.116882"
      ]
     },
     "execution_count": 27,
     "metadata": {},
     "output_type": "execute_result"
    }
   ],
   "source": [
    "lstm_test_df = pd.read_csv('lstm_test_res.csv')#, index_col=date_col)\n",
    "lstm_test_df.rename( columns={'Unnamed: 0':'Date'}, inplace=True )\n",
    "lstm_test_df.head()"
   ]
  },
  {
   "cell_type": "markdown",
   "metadata": {},
   "source": [
    "#### <span style=\"color:DarkOliveGreen\">Read LSTM+Hurst results as lstm_hurst_train_df and lstm_hurst_test_df:"
   ]
  },
  {
   "cell_type": "code",
   "execution_count": 9,
   "metadata": {},
   "outputs": [
    {
     "data": {
      "text/html": [
       "<div>\n",
       "<style scoped>\n",
       "    .dataframe tbody tr th:only-of-type {\n",
       "        vertical-align: middle;\n",
       "    }\n",
       "\n",
       "    .dataframe tbody tr th {\n",
       "        vertical-align: top;\n",
       "    }\n",
       "\n",
       "    .dataframe thead th {\n",
       "        text-align: right;\n",
       "    }\n",
       "</style>\n",
       "<table border=\"1\" class=\"dataframe\">\n",
       "  <thead>\n",
       "    <tr style=\"text-align: right;\">\n",
       "      <th></th>\n",
       "      <th>Date</th>\n",
       "      <th>IG_MID</th>\n",
       "      <th>lstm_hurst_fit</th>\n",
       "    </tr>\n",
       "  </thead>\n",
       "  <tbody>\n",
       "    <tr>\n",
       "      <th>0</th>\n",
       "      <td>2012-01-01</td>\n",
       "      <td>120.000</td>\n",
       "      <td>116.157814</td>\n",
       "    </tr>\n",
       "    <tr>\n",
       "      <th>1</th>\n",
       "      <td>2012-01-02</td>\n",
       "      <td>118.000</td>\n",
       "      <td>116.157814</td>\n",
       "    </tr>\n",
       "    <tr>\n",
       "      <th>2</th>\n",
       "      <td>2012-01-03</td>\n",
       "      <td>118.750</td>\n",
       "      <td>114.386510</td>\n",
       "    </tr>\n",
       "    <tr>\n",
       "      <th>3</th>\n",
       "      <td>2012-01-04</td>\n",
       "      <td>120.001</td>\n",
       "      <td>115.052284</td>\n",
       "    </tr>\n",
       "    <tr>\n",
       "      <th>4</th>\n",
       "      <td>2012-01-05</td>\n",
       "      <td>120.000</td>\n",
       "      <td>116.158690</td>\n",
       "    </tr>\n",
       "  </tbody>\n",
       "</table>\n",
       "</div>"
      ],
      "text/plain": [
       "         Date   IG_MID  lstm_hurst_fit\n",
       "0  2012-01-01  120.000      116.157814\n",
       "1  2012-01-02  118.000      116.157814\n",
       "2  2012-01-03  118.750      114.386510\n",
       "3  2012-01-04  120.001      115.052284\n",
       "4  2012-01-05  120.000      116.158690"
      ]
     },
     "execution_count": 9,
     "metadata": {},
     "output_type": "execute_result"
    }
   ],
   "source": [
    "lstm_hurst_train_df = pd.read_csv('lstm_hurst_train_res.csv')#, index_col=date_col)\n",
    "lstm_hurst_train_df.rename( columns={'Unnamed: 0':'Date'}, inplace=True )\n",
    "lstm_hurst_train_df.head()"
   ]
  },
  {
   "cell_type": "code",
   "execution_count": 10,
   "metadata": {},
   "outputs": [
    {
     "data": {
      "text/html": [
       "<div>\n",
       "<style scoped>\n",
       "    .dataframe tbody tr th:only-of-type {\n",
       "        vertical-align: middle;\n",
       "    }\n",
       "\n",
       "    .dataframe tbody tr th {\n",
       "        vertical-align: top;\n",
       "    }\n",
       "\n",
       "    .dataframe thead th {\n",
       "        text-align: right;\n",
       "    }\n",
       "</style>\n",
       "<table border=\"1\" class=\"dataframe\">\n",
       "  <thead>\n",
       "    <tr style=\"text-align: right;\">\n",
       "      <th></th>\n",
       "      <th>Date</th>\n",
       "      <th>IG_MID</th>\n",
       "      <th>lstm_hurst_predict</th>\n",
       "    </tr>\n",
       "  </thead>\n",
       "  <tbody>\n",
       "    <tr>\n",
       "      <th>0</th>\n",
       "      <td>2021-11-26</td>\n",
       "      <td>57.454</td>\n",
       "      <td>53.777850</td>\n",
       "    </tr>\n",
       "    <tr>\n",
       "      <th>1</th>\n",
       "      <td>2021-11-27</td>\n",
       "      <td>57.454</td>\n",
       "      <td>57.806396</td>\n",
       "    </tr>\n",
       "    <tr>\n",
       "      <th>2</th>\n",
       "      <td>2021-11-28</td>\n",
       "      <td>57.454</td>\n",
       "      <td>57.811028</td>\n",
       "    </tr>\n",
       "    <tr>\n",
       "      <th>3</th>\n",
       "      <td>2021-11-29</td>\n",
       "      <td>55.083</td>\n",
       "      <td>57.800440</td>\n",
       "    </tr>\n",
       "    <tr>\n",
       "      <th>4</th>\n",
       "      <td>2021-11-30</td>\n",
       "      <td>57.687</td>\n",
       "      <td>55.608112</td>\n",
       "    </tr>\n",
       "  </tbody>\n",
       "</table>\n",
       "</div>"
      ],
      "text/plain": [
       "         Date  IG_MID  lstm_hurst_predict\n",
       "0  2021-11-26  57.454           53.777850\n",
       "1  2021-11-27  57.454           57.806396\n",
       "2  2021-11-28  57.454           57.811028\n",
       "3  2021-11-29  55.083           57.800440\n",
       "4  2021-11-30  57.687           55.608112"
      ]
     },
     "execution_count": 10,
     "metadata": {},
     "output_type": "execute_result"
    }
   ],
   "source": [
    "lstm_hurst_test_df = pd.read_csv('lstm_hurst_test_res.csv')#, index_col=date_col)\n",
    "lstm_hurst_test_df.rename( columns={'Unnamed: 0':'Date'}, inplace=True )\n",
    "lstm_hurst_test_df.head()"
   ]
  },
  {
   "cell_type": "markdown",
   "metadata": {},
   "source": [
    "#### <span style=\"color:DarkOliveGreen\">Read SVM results as svm_train_df and svm_test_df:"
   ]
  },
  {
   "cell_type": "code",
   "execution_count": 11,
   "metadata": {},
   "outputs": [
    {
     "data": {
      "text/html": [
       "<div>\n",
       "<style scoped>\n",
       "    .dataframe tbody tr th:only-of-type {\n",
       "        vertical-align: middle;\n",
       "    }\n",
       "\n",
       "    .dataframe tbody tr th {\n",
       "        vertical-align: top;\n",
       "    }\n",
       "\n",
       "    .dataframe thead th {\n",
       "        text-align: right;\n",
       "    }\n",
       "</style>\n",
       "<table border=\"1\" class=\"dataframe\">\n",
       "  <thead>\n",
       "    <tr style=\"text-align: right;\">\n",
       "      <th></th>\n",
       "      <th>Date</th>\n",
       "      <th>IG_MID</th>\n",
       "      <th>svm_fit</th>\n",
       "    </tr>\n",
       "  </thead>\n",
       "  <tbody>\n",
       "    <tr>\n",
       "      <th>0</th>\n",
       "      <td>2012-01-01</td>\n",
       "      <td>120.000</td>\n",
       "      <td>120.009851</td>\n",
       "    </tr>\n",
       "    <tr>\n",
       "      <th>1</th>\n",
       "      <td>2012-01-02</td>\n",
       "      <td>120.000</td>\n",
       "      <td>119.989742</td>\n",
       "    </tr>\n",
       "    <tr>\n",
       "      <th>2</th>\n",
       "      <td>2012-01-03</td>\n",
       "      <td>118.000</td>\n",
       "      <td>118.137969</td>\n",
       "    </tr>\n",
       "    <tr>\n",
       "      <th>3</th>\n",
       "      <td>2012-01-04</td>\n",
       "      <td>118.750</td>\n",
       "      <td>118.740485</td>\n",
       "    </tr>\n",
       "    <tr>\n",
       "      <th>4</th>\n",
       "      <td>2012-01-05</td>\n",
       "      <td>120.001</td>\n",
       "      <td>119.997760</td>\n",
       "    </tr>\n",
       "  </tbody>\n",
       "</table>\n",
       "</div>"
      ],
      "text/plain": [
       "         Date   IG_MID     svm_fit\n",
       "0  2012-01-01  120.000  120.009851\n",
       "1  2012-01-02  120.000  119.989742\n",
       "2  2012-01-03  118.000  118.137969\n",
       "3  2012-01-04  118.750  118.740485\n",
       "4  2012-01-05  120.001  119.997760"
      ]
     },
     "execution_count": 11,
     "metadata": {},
     "output_type": "execute_result"
    }
   ],
   "source": [
    "svm_train_df = pd.read_csv('svm_train_res.csv')#, index_col=date_col)\n",
    "svm_train_df.rename( columns={'Unnamed: 0':'Date'}, inplace=True )\n",
    "svm_train_df.head()"
   ]
  },
  {
   "cell_type": "code",
   "execution_count": 13,
   "metadata": {},
   "outputs": [
    {
     "data": {
      "text/html": [
       "<div>\n",
       "<style scoped>\n",
       "    .dataframe tbody tr th:only-of-type {\n",
       "        vertical-align: middle;\n",
       "    }\n",
       "\n",
       "    .dataframe tbody tr th {\n",
       "        vertical-align: top;\n",
       "    }\n",
       "\n",
       "    .dataframe thead th {\n",
       "        text-align: right;\n",
       "    }\n",
       "</style>\n",
       "<table border=\"1\" class=\"dataframe\">\n",
       "  <thead>\n",
       "    <tr style=\"text-align: right;\">\n",
       "      <th></th>\n",
       "      <th>Date</th>\n",
       "      <th>IG_MID</th>\n",
       "      <th>svm_predict</th>\n",
       "    </tr>\n",
       "  </thead>\n",
       "  <tbody>\n",
       "    <tr>\n",
       "      <th>0</th>\n",
       "      <td>2021-11-25</td>\n",
       "      <td>53.020</td>\n",
       "      <td>55.060512</td>\n",
       "    </tr>\n",
       "    <tr>\n",
       "      <th>1</th>\n",
       "      <td>2021-11-26</td>\n",
       "      <td>57.454</td>\n",
       "      <td>60.078426</td>\n",
       "    </tr>\n",
       "    <tr>\n",
       "      <th>2</th>\n",
       "      <td>2021-11-27</td>\n",
       "      <td>57.454</td>\n",
       "      <td>65.667874</td>\n",
       "    </tr>\n",
       "    <tr>\n",
       "      <th>3</th>\n",
       "      <td>2021-11-28</td>\n",
       "      <td>57.454</td>\n",
       "      <td>69.262382</td>\n",
       "    </tr>\n",
       "    <tr>\n",
       "      <th>4</th>\n",
       "      <td>2021-11-29</td>\n",
       "      <td>55.083</td>\n",
       "      <td>70.565937</td>\n",
       "    </tr>\n",
       "  </tbody>\n",
       "</table>\n",
       "</div>"
      ],
      "text/plain": [
       "         Date  IG_MID  svm_predict\n",
       "0  2021-11-25  53.020    55.060512\n",
       "1  2021-11-26  57.454    60.078426\n",
       "2  2021-11-27  57.454    65.667874\n",
       "3  2021-11-28  57.454    69.262382\n",
       "4  2021-11-29  55.083    70.565937"
      ]
     },
     "execution_count": 13,
     "metadata": {},
     "output_type": "execute_result"
    }
   ],
   "source": [
    "svm_test_df = pd.read_csv('svm_test_res.csv')#, index_col=date_col)\n",
    "svm_test_df.rename( columns={'Unnamed: 0':'Date'}, inplace=True )\n",
    "svm_test_df.head()"
   ]
  },
  {
   "cell_type": "markdown",
   "metadata": {},
   "source": [
    "#### <span style=\"color:DarkOliveGreen\">Compare RMSEs of various models:"
   ]
  },
  {
   "cell_type": "code",
   "execution_count": 34,
   "metadata": {},
   "outputs": [],
   "source": [
    "train_dates = [datetime.datetime.strptime(dt, '%Y-%m-%d').date() for dt in lstm_train_df['Date']]\n",
    "test_dates = [datetime.datetime.strptime(dt, '%Y-%m-%d').date() for dt in lstm_test_df['Date']]\n",
    "\n",
    "svm_train_dates = [datetime.datetime.strptime(dt, '%Y-%m-%d').date() for dt in svm_train_df['Date']]\n",
    "svm_test_dates = [datetime.datetime.strptime(dt, '%Y-%m-%d').date() for dt in svm_test_df['Date']]"
   ]
  },
  {
   "cell_type": "code",
   "execution_count": 50,
   "metadata": {},
   "outputs": [
    {
     "name": "stdout",
     "output_type": "stream",
     "text": [
      "LSTM Training Fit RMSE: 2.002\n",
      "LSTM+Hurst Training Fit RMSE: 2.248\n",
      "SVM Training Fit RMSE: 0.901\n"
     ]
    }
   ],
   "source": [
    "# calculate Training Fitted RMSEs\n",
    "org_y_train = lstm_train_df['IG_MID']\n",
    "lstm_train = lstm_train_df['lstm_fit']\n",
    "lstm_hurst_train = lstm_hurst_train_df['lstm_hurst_fit']\n",
    "svm_train = svm_train_df['svm_fit']\n",
    "\n",
    "lstm_train_rmse = round(np.sqrt(mean_squared_error(org_y_train, lstm_train)),3)\n",
    "print('LSTM Training Fit RMSE: %.3f' % lstm_train_rmse)\n",
    "\n",
    "lstm_hurst_train_rmse = round(np.sqrt(mean_squared_error(org_y_train, lstm_hurst_train)),3)\n",
    "print('LSTM+Hurst Training Fit RMSE: %.3f' % lstm_hurst_train_rmse)\n",
    "\n",
    "svm_train_rmse = round(np.sqrt(mean_squared_error(svm_train_df['IG_MID'], svm_train)),3)\n",
    "print('SVM Training Fit RMSE: %.3f' % svm_train_rmse)"
   ]
  },
  {
   "cell_type": "code",
   "execution_count": 51,
   "metadata": {},
   "outputs": [
    {
     "data": {
      "image/png": "[encoded data removed]",
      "text/plain": [
       "<Figure size 864x432 with 1 Axes>"
      ]
     },
     "metadata": {
      "needs_background": "light"
     },
     "output_type": "display_data"
    }
   ],
   "source": [
    "plt.figure(figsize=(12,6))\n",
    "\n",
    "plt.plot(train_dates,org_y_train,label='CDX.NA.IG')\n",
    "plt.plot(train_dates,lstm_train,label='LSTM Fit(rmse: '+ str(lstm_train_rmse) + ')')\n",
    "plt.plot(train_dates,lstm_hurst_train,label='LSTM+Hurst Fit(rmse: '+ str(lstm_hurst_train_rmse) + ')')\n",
    "plt.plot(svm_train_dates,svm_train_df['svm_fit'],label='SVM Fit(rmse: '+ str(svm_train_rmse) + ')')\n",
    "plt.title('Actual vs Training Fit')\n",
    "plt.xlabel('Date')\n",
    "plt.ylabel('CDX.NA.IG')\n",
    "plt.legend()\n",
    "plt.show()"
   ]
  },
  {
   "cell_type": "code",
   "execution_count": 53,
   "metadata": {},
   "outputs": [
    {
     "name": "stdout",
     "output_type": "stream",
     "text": [
      "LSTM testing predict RMSE: 2.217\n",
      "LSTM+Hurst testing predict RMSE: 2.465\n",
      "SVM testing predict RMSE: 16.973\n"
     ]
    }
   ],
   "source": [
    "# calculate Test predictted RMSEs\n",
    "org_y_test = lstm_test_df['IG_MID']\n",
    "lstm_test = lstm_test_df['lstm_predict']\n",
    "lstm_hurst_test = lstm_hurst_test_df['lstm_hurst_predict']\n",
    "svm_test = svm_test_df['svm_predict']\n",
    "\n",
    "lstm_test_rmse = round(np.sqrt(mean_squared_error(org_y_test, lstm_test)),3)\n",
    "print('LSTM testing predict RMSE: %.3f' % lstm_test_rmse)\n",
    "\n",
    "lstm_hurst_test_rmse = round(np.sqrt(mean_squared_error(org_y_test, lstm_hurst_test)),3)\n",
    "print('LSTM+Hurst testing predict RMSE: %.3f' % lstm_hurst_test_rmse)\n",
    "\n",
    "svm_test_rmse = round(np.sqrt(mean_squared_error(svm_test_df['IG_MID'], svm_test)),3)\n",
    "print('SVM testing predict RMSE: %.3f' % svm_test_rmse)"
   ]
  },
  {
   "cell_type": "code",
   "execution_count": 54,
   "metadata": {},
   "outputs": [
    {
     "data": {
      "image/png": "[encoded data removed]",
      "text/plain": [
       "<Figure size 864x432 with 1 Axes>"
      ]
     },
     "metadata": {
      "needs_background": "light"
     },
     "output_type": "display_data"
    }
   ],
   "source": [
    "plt.figure(figsize=(12,6))\n",
    "\n",
    "plt.plot(test_dates,org_y_test,label='CDX.NA.IG')\n",
    "plt.plot(test_dates,lstm_test,label='LSTM predict(rmse: '+ str(lstm_test_rmse) + ')')\n",
    "plt.plot(test_dates,lstm_hurst_test,label='LSTM+Hurst predict(rmse: '+ str(lstm_hurst_test_rmse) + ')')\n",
    "plt.plot(svm_test_dates,svm_test_df['svm_predict'],label='SVM predict(rmse: '+ str(svm_test_rmse) + ')')\n",
    "plt.title('Actual vs testing predict')\n",
    "plt.xlabel('Date')\n",
    "plt.ylabel('CDX.NA.IG')\n",
    "plt.legend()\n",
    "plt.show()"
   ]
  },
  {
   "cell_type": "markdown",
   "metadata": {},
   "source": [
    " "
   ]
  },
  {
   "cell_type": "markdown",
   "metadata": {},
   "source": [
    "           "
   ]
  },
  {
   "cell_type": "markdown",
   "metadata": {},
   "source": [
    "      "
   ]
  },
  {
   "cell_type": "markdown",
   "metadata": {},
   "source": [
    "      "
   ]
  }
 ],
 "metadata": {
  "kernelspec": {
   "display_name": "Python 3",
   "language": "python",
   "name": "python3"
  },
  "language_info": {
   "codemirror_mode": {
    "name": "ipython",
    "version": 3
   },
   "file_extension": ".py",
   "mimetype": "text/x-python",
   "name": "python",
   "nbconvert_exporter": "python",
   "pygments_lexer": "ipython3",
   "version": "3.7.4"
  }
 },
 "nbformat": 4,
 "nbformat_minor": 4
}
