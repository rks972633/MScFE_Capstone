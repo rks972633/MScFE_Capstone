{
 "cells": [
  {
   "cell_type": "markdown",
   "metadata": {},
   "source": [
    "# <span style=\"color:DarkOliveGreen\">Data Gathering and Basic Analysis"
   ]
  },
  {
   "cell_type": "markdown",
   "metadata": {},
   "source": [
    "<span style=\"color:Olive\">__Summary:__ In this file we shall download the data from Bloomberg and carry out basic analysis on it. "
   ]
  },
  {
   "cell_type": "code",
   "execution_count": 1,
   "metadata": {},
   "outputs": [],
   "source": [
    "# Import required libraries\n",
    "import warnings\n",
    "warnings.filterwarnings('ignore')\n",
    "from pandas_datareader import data\n",
    "import pandas as pd\n",
    "import numpy as np\n",
    "import matplotlib.pyplot as plt\n",
    "\n",
    "from scipy.stats import norm\n",
    "import os\n",
    "from xbbg import blp, pipeline\n",
    "np.random.seed(0)\n",
    "\n",
    "import datetime\n",
    "# BDay is business day, not birthday...\n",
    "from pandas.tseries.offsets import BDay\n",
    "\n",
    "today = datetime.datetime.today()"
   ]
  },
  {
   "cell_type": "code",
   "execution_count": 23,
   "metadata": {},
   "outputs": [],
   "source": [
    "# User defined names\n",
    "index = \"CDX.NA.IG\"\n",
    "ticker = \"CDX IG CDSI GEN 5Y Corp\"\n",
    "# Define the date range\n",
    "start_date = '2011-01-01'\n",
    "end_date = (today - BDay(1)).strftime('%Y-%m-%d')"
   ]
  },
  {
   "cell_type": "code",
   "execution_count": 3,
   "metadata": {},
   "outputs": [
    {
     "name": "stdout",
     "output_type": "stream",
     "text": [
      "C:\\Users\\rsingh\\Desktop\\World Quant\\Capstone\\GitHub_main\\Dev\\CDX.NA.IG\\Codes\n"
     ]
    }
   ],
   "source": [
    "# Get current working directory\n",
    "mycwd = os.getcwd()\n",
    "print(mycwd)"
   ]
  },
  {
   "cell_type": "code",
   "execution_count": 4,
   "metadata": {},
   "outputs": [],
   "source": [
    "# Change to data directory\n",
    "os.chdir(\"..\")\n",
    "os.chdir(str(os.getcwd()) + \"\\\\Data\")"
   ]
  },
  {
   "cell_type": "markdown",
   "metadata": {},
   "source": [
    "        "
   ]
  },
  {
   "cell_type": "markdown",
   "metadata": {},
   "source": [
    "## <span style=\"color:DarkOliveGreen\">Functions"
   ]
  },
  {
   "cell_type": "code",
   "execution_count": 5,
   "metadata": {},
   "outputs": [],
   "source": [
    "# Function to get Adjusted close price of the bloomberg ticker\n",
    "def Get_Bloomberg_Price(ticker, start_date, end_date):\n",
    "    \"\"\"\n",
    "        Returns a pandas dataframe with adjusted close price\n",
    "    \"\"\"\n",
    "    df = blp.bdh(tickers=ticker, flds='px_mid',start_date=start_date, end_date=end_date, \n",
    "                 Per='D', Fill='P', Days='A',)[ticker]\n",
    "    df['Adj Close'] = df['px_mid']\n",
    "    df.drop(['px_mid'], axis=1,inplace=True)\n",
    "    df.dropna(inplace=True)\n",
    "    df.index.name = 'Date'\n",
    "    return df"
   ]
  },
  {
   "cell_type": "code",
   "execution_count": 6,
   "metadata": {},
   "outputs": [],
   "source": [
    "def Get_LogReturn(df, var_in, var_out):\n",
    "    \"\"\"\n",
    "        Calculates the log returns\n",
    "    \"\"\"\n",
    "    df[var_out] = np.log(df[var_in]).diff()\n",
    "    return df"
   ]
  },
  {
   "cell_type": "code",
   "execution_count": 7,
   "metadata": {},
   "outputs": [],
   "source": [
    "def Print_Formatted_metrics(df, stock, var):\n",
    "    \"\"\"\n",
    "        Prints the below values for the given variable:\n",
    "            1. Mean\n",
    "            2. Standard Deviation\n",
    "            3. Skewness\n",
    "            4. Kurtosis\n",
    "            4. Excess Kurtosis\n",
    "    \"\"\"\n",
    "    print(\"++++++++++++++++++++++++++++++++\")\n",
    "    print(\"             Stock: {0}\".format(stock))\n",
    "    print(\"              Mean: {:.6f}\".format(df[var].mean()))\n",
    "    print(\"Standard Deviation: {:.6f}\".format(df[var].std()))\n",
    "    print(\"          Skewness: {:.6f}\".format(df[var].skew()))\n",
    "    print(\"          Kurtosis: {:.6F}\".format(df[var].kurtosis()))\n",
    "    print(\"   Excess Kurtosis: {:.6f}\".format(df[var].kurtosis()-3))\n",
    "    print(\"++++++++++++++++++++++++++++++++\")\n",
    "    return"
   ]
  },
  {
   "cell_type": "markdown",
   "metadata": {},
   "source": [
    "        "
   ]
  },
  {
   "cell_type": "markdown",
   "metadata": {},
   "source": [
    "      "
   ]
  },
  {
   "cell_type": "markdown",
   "metadata": {},
   "source": [
    "## <span style=\"color:DarkOliveGreen\">Download the Data"
   ]
  },
  {
   "cell_type": "code",
   "execution_count": 9,
   "metadata": {},
   "outputs": [
    {
     "data": {
      "text/html": [
       "<div>\n",
       "<style scoped>\n",
       "    .dataframe tbody tr th:only-of-type {\n",
       "        vertical-align: middle;\n",
       "    }\n",
       "\n",
       "    .dataframe tbody tr th {\n",
       "        vertical-align: top;\n",
       "    }\n",
       "\n",
       "    .dataframe thead th {\n",
       "        text-align: right;\n",
       "    }\n",
       "</style>\n",
       "<table border=\"1\" class=\"dataframe\">\n",
       "  <thead>\n",
       "    <tr style=\"text-align: right;\">\n",
       "      <th></th>\n",
       "      <th>Adj Close</th>\n",
       "    </tr>\n",
       "    <tr>\n",
       "      <th>Date</th>\n",
       "      <th></th>\n",
       "    </tr>\n",
       "  </thead>\n",
       "  <tbody>\n",
       "    <tr>\n",
       "      <th>2023-02-03</th>\n",
       "      <td>69.044</td>\n",
       "    </tr>\n",
       "    <tr>\n",
       "      <th>2023-02-04</th>\n",
       "      <td>69.044</td>\n",
       "    </tr>\n",
       "    <tr>\n",
       "      <th>2023-02-05</th>\n",
       "      <td>69.044</td>\n",
       "    </tr>\n",
       "    <tr>\n",
       "      <th>2023-02-06</th>\n",
       "      <td>70.166</td>\n",
       "    </tr>\n",
       "    <tr>\n",
       "      <th>2023-02-07</th>\n",
       "      <td>68.711</td>\n",
       "    </tr>\n",
       "  </tbody>\n",
       "</table>\n",
       "</div>"
      ],
      "text/plain": [
       "            Adj Close\n",
       "Date                 \n",
       "2023-02-03     69.044\n",
       "2023-02-04     69.044\n",
       "2023-02-05     69.044\n",
       "2023-02-06     70.166\n",
       "2023-02-07     68.711"
      ]
     },
     "execution_count": 9,
     "metadata": {},
     "output_type": "execute_result"
    }
   ],
   "source": [
    "# Download CDX.NA.IG Data for the given date range\n",
    "df = Get_Bloomberg_Price(ticker, start_date, end_date)\n",
    "df.tail()"
   ]
  },
  {
   "cell_type": "code",
   "execution_count": 10,
   "metadata": {},
   "outputs": [],
   "source": [
    "# Calculate log returns\n",
    "df = Get_LogReturn(df, 'Adj Close', 'log returns')"
   ]
  },
  {
   "cell_type": "code",
   "execution_count": 12,
   "metadata": {},
   "outputs": [
    {
     "data": {
      "text/html": [
       "<div>\n",
       "<style scoped>\n",
       "    .dataframe tbody tr th:only-of-type {\n",
       "        vertical-align: middle;\n",
       "    }\n",
       "\n",
       "    .dataframe tbody tr th {\n",
       "        vertical-align: top;\n",
       "    }\n",
       "\n",
       "    .dataframe thead th {\n",
       "        text-align: right;\n",
       "    }\n",
       "</style>\n",
       "<table border=\"1\" class=\"dataframe\">\n",
       "  <thead>\n",
       "    <tr style=\"text-align: right;\">\n",
       "      <th></th>\n",
       "      <th>Adj Close</th>\n",
       "      <th>log returns</th>\n",
       "    </tr>\n",
       "    <tr>\n",
       "      <th>Date</th>\n",
       "      <th></th>\n",
       "      <th></th>\n",
       "    </tr>\n",
       "  </thead>\n",
       "  <tbody>\n",
       "    <tr>\n",
       "      <th>2023-02-03</th>\n",
       "      <td>69.044</td>\n",
       "      <td>0.027100</td>\n",
       "    </tr>\n",
       "    <tr>\n",
       "      <th>2023-02-04</th>\n",
       "      <td>69.044</td>\n",
       "      <td>0.000000</td>\n",
       "    </tr>\n",
       "    <tr>\n",
       "      <th>2023-02-05</th>\n",
       "      <td>69.044</td>\n",
       "      <td>0.000000</td>\n",
       "    </tr>\n",
       "    <tr>\n",
       "      <th>2023-02-06</th>\n",
       "      <td>70.166</td>\n",
       "      <td>0.016120</td>\n",
       "    </tr>\n",
       "    <tr>\n",
       "      <th>2023-02-07</th>\n",
       "      <td>68.711</td>\n",
       "      <td>-0.020955</td>\n",
       "    </tr>\n",
       "  </tbody>\n",
       "</table>\n",
       "</div>"
      ],
      "text/plain": [
       "            Adj Close  log returns\n",
       "Date                              \n",
       "2023-02-03     69.044     0.027100\n",
       "2023-02-04     69.044     0.000000\n",
       "2023-02-05     69.044     0.000000\n",
       "2023-02-06     70.166     0.016120\n",
       "2023-02-07     68.711    -0.020955"
      ]
     },
     "execution_count": 12,
     "metadata": {},
     "output_type": "execute_result"
    }
   ],
   "source": [
    "# Head of data\n",
    "df.tail()"
   ]
  },
  {
   "cell_type": "markdown",
   "metadata": {},
   "source": [
    "          "
   ]
  },
  {
   "cell_type": "markdown",
   "metadata": {},
   "source": [
    "         "
   ]
  },
  {
   "cell_type": "markdown",
   "metadata": {},
   "source": [
    "## <span style=\"color:DarkOliveGreen\">Basic Exploratary Analysis"
   ]
  },
  {
   "cell_type": "code",
   "execution_count": 13,
   "metadata": {},
   "outputs": [],
   "source": [
    "# Change to Images directory\n",
    "os.chdir(\"..\")\n",
    "os.chdir(str(os.getcwd()) + \"\\\\Images\")"
   ]
  },
  {
   "cell_type": "markdown",
   "metadata": {},
   "source": [
    "### <span style=\"color:DarkOliveGreen\">Histogram of Returns"
   ]
  },
  {
   "cell_type": "code",
   "execution_count": 25,
   "metadata": {},
   "outputs": [
    {
     "data": {
      "image/png": "[encoded data removed]",
      "text/plain": [
       "<Figure size 1000x500 with 1 Axes>"
      ]
     },
     "metadata": {},
     "output_type": "display_data"
    }
   ],
   "source": [
    "# Fit a normal distribution to the data:\n",
    "mu, std = norm.fit(df['log returns'].dropna())\n",
    "# Histogram for log returns\n",
    "plt.figure(figsize=(10,5))\n",
    "plt.hist(df['log returns'].dropna(), bins=100, density=True, facecolor='b', alpha=0.5)\n",
    "# Plot the PDF\n",
    "xmin, xmax = plt.xlim()\n",
    "x = np.linspace(xmin, xmax, 100)\n",
    "p = norm.pdf(x, mu, std)\n",
    "plt.plot(x, p, 'k', linewidth=2)\n",
    "title = \"{}: mu = {:+.4f},  std = {:+.4f}\".format(index, mu, std)\n",
    "plt.title(title, fontsize=16)\n",
    "plt.xlabel(\"Daily Log Returns\", fontsize=12)\n",
    "plt.ylabel(\"Probability\", fontsize=12)\n",
    "plt.grid()\n",
    "plt.savefig('histogram of returns ' + str(index) +'.png')\n",
    "plt.show()\n",
    "plt.close()"
   ]
  },
  {
   "cell_type": "markdown",
   "metadata": {},
   "source": [
    "__Comments:__ <span style=\"color:Olive\"> Based on above plot, we can conclude that the log returns are not normally distributed"
   ]
  },
  {
   "cell_type": "markdown",
   "metadata": {},
   "source": [
    "       "
   ]
  },
  {
   "cell_type": "markdown",
   "metadata": {},
   "source": [
    "### <span style=\"color:DarkOliveGreen\">Time Series Plot of Returns"
   ]
  },
  {
   "cell_type": "code",
   "execution_count": 26,
   "metadata": {},
   "outputs": [],
   "source": [
    "plt.figure(figsize=(10,5))\n",
    "plt.plot(df['log returns'], alpha=0.5)\n",
    "plt.title('{} Log Returns'.format(index), fontsize=16)\n",
    "plt.xlabel('Date', fontsize=12)\n",
    "plt.grid()\n",
    "plt.savefig('Time series of returns ' + str(index) +'.png')\n",
    "plt.close()"
   ]
  },
  {
   "cell_type": "code",
   "execution_count": 27,
   "metadata": {
    "scrolled": true
   },
   "outputs": [
    {
     "data": {
      "image/png": "[encoded data removed]",
      "text/plain": [
       "<Figure size 1200x300 with 1 Axes>"
      ]
     },
     "metadata": {},
     "output_type": "display_data"
    }
   ],
   "source": [
    "plt.figure(figsize=(12,3))\n",
    "plt.plot(df['log returns'], alpha=0.5)\n",
    "plt.title('{} Log Returns'.format(index), fontsize=16)\n",
    "plt.xlabel('Date', fontsize=12)\n",
    "plt.grid()\n",
    "plt.show()"
   ]
  },
  {
   "cell_type": "markdown",
   "metadata": {},
   "source": [
    "__Comments:__ <span style=\"color:Blue\"> There are certain period of high volatility (Jun, 2011 to Dec, 2011, Feb 2020 to April, 2020)"
   ]
  },
  {
   "cell_type": "markdown",
   "metadata": {},
   "source": [
    "        "
   ]
  },
  {
   "cell_type": "markdown",
   "metadata": {},
   "source": [
    "### <span style=\"color:DarkOliveGreen\">Basic Statistics for Log Returns"
   ]
  },
  {
   "cell_type": "code",
   "execution_count": 30,
   "metadata": {},
   "outputs": [
    {
     "name": "stdout",
     "output_type": "stream",
     "text": [
      "++++++++++++++++++++++++++++++++\n",
      "             Stock: CDX.NA.IG\n",
      "              Mean: -0.000157\n",
      "Standard Deviation: 0.024813\n",
      "          Skewness: -0.063156\n",
      "          Kurtosis: 21.426755\n",
      "   Excess Kurtosis: 18.426755\n",
      "++++++++++++++++++++++++++++++++\n"
     ]
    }
   ],
   "source": [
    "# Get basic statistics for log returns\n",
    "Print_Formatted_metrics(df, index, 'log returns')"
   ]
  },
  {
   "cell_type": "markdown",
   "metadata": {},
   "source": [
    "       "
   ]
  },
  {
   "cell_type": "markdown",
   "metadata": {},
   "source": [
    "## <span style=\"color:DarkOliveGreen\">Save the Data"
   ]
  },
  {
   "cell_type": "code",
   "execution_count": 31,
   "metadata": {},
   "outputs": [],
   "source": [
    "os.chdir(\"..\")\n",
    "os.chdir(str(os.getcwd()) + \"\\\\Data\")\n",
    "df.drop(\"log returns\", axis=1, inplace=True)\n",
    "df.to_csv(index +\".csv\", index=True)"
   ]
  },
  {
   "cell_type": "markdown",
   "metadata": {},
   "source": [
    "         "
   ]
  }
 ],
 "metadata": {
  "kernelspec": {
   "display_name": "Python 3 (ipykernel)",
   "language": "python",
   "name": "python3"
  },
  "language_info": {
   "codemirror_mode": {
    "name": "ipython",
    "version": 3
   },
   "file_extension": ".py",
   "mimetype": "text/x-python",
   "name": "python",
   "nbconvert_exporter": "python",
   "pygments_lexer": "ipython3",
   "version": "3.9.13"
  }
 },
 "nbformat": 4,
 "nbformat_minor": 4
}
